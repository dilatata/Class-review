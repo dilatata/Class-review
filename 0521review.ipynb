{
 "cells": [
  {
   "cell_type": "markdown",
   "metadata": {},
   "source": [
    "### Comprehension\n",
    "> newlist = [expression for item in iterable if condition == True] <br>\n",
    "> list, set, dictionary 내에서 실행 가능한 한줄  for  문 <br> \n",
    "> https://www.w3schools.com/python/python_lists_comprehension.asp"
   ]
  },
  {
   "cell_type": "code",
   "execution_count": 6,
   "metadata": {},
   "outputs": [
    {
     "name": "stdout",
     "output_type": "stream",
     "text": [
      "ssttrriinngg"
     ]
    }
   ],
   "source": [
    "lst_str = 'string'\n",
    "    \n",
    "for x in lst_str:\n",
    "    print(x*2, end='')"
   ]
  },
  {
   "cell_type": "code",
   "execution_count": 8,
   "metadata": {},
   "outputs": [
    {
     "name": "stdout",
     "output_type": "stream",
     "text": [
      "['ss', 'tt', 'rr', 'ii', 'nn', 'gg']\n"
     ]
    }
   ],
   "source": [
    "xx = []\n",
    "\n",
    "for x in lst_str:\n",
    "    xx.append(x*2)\n",
    "\n",
    "print(xx)"
   ]
  },
  {
   "cell_type": "code",
   "execution_count": 10,
   "metadata": {},
   "outputs": [
    {
     "name": "stdout",
     "output_type": "stream",
     "text": [
      "['ss', 'tt', 'rr', 'ii', 'nn', 'gg']\n"
     ]
    }
   ],
   "source": [
    "xx2 = []\n",
    "xx2 = [x*2 for x in lst_str]\n",
    "print(xx2)"
   ]
  },
  {
   "cell_type": "code",
   "execution_count": 14,
   "metadata": {},
   "outputs": [
    {
     "name": "stdout",
     "output_type": "stream",
     "text": [
      "['s', 't', 'r', 'n', 'g']\n"
     ]
    }
   ],
   "source": [
    "xx = []\n",
    "\n",
    "for x in lst_str:\n",
    "    if x != 'i':\n",
    "        xx.append(x)\n",
    "    else:\n",
    "        continue\n",
    "    \n",
    "\n",
    "print(xx)"
   ]
  },
  {
   "cell_type": "code",
   "execution_count": 16,
   "metadata": {},
   "outputs": [
    {
     "name": "stdout",
     "output_type": "stream",
     "text": [
      "['s', 't', 'r', 'n', 'g']\n"
     ]
    }
   ],
   "source": [
    "xx = []\n",
    "xx = [x for x in lst_str if x != 'i']\n",
    "print(xx)"
   ]
  },
  {
   "cell_type": "code",
   "execution_count": 21,
   "metadata": {},
   "outputs": [
    {
     "name": "stdout",
     "output_type": "stream",
     "text": [
      "[(3, 3), (4, 4)]\n"
     ]
    }
   ],
   "source": [
    "# list에 tuple 생성\n",
    "z = []\n",
    "for x in [3, 1, 4]:\n",
    "    for y in [3, 4, 7]:\n",
    "        if x == y:\n",
    "            z.append((x, y)) #append() takes exactly one argument (x, y)로 묶어주기\n",
    "\n",
    "print(z)"
   ]
  },
  {
   "cell_type": "code",
   "execution_count": 23,
   "metadata": {},
   "outputs": [
    {
     "name": "stdout",
     "output_type": "stream",
     "text": [
      "[(3, 3), (4, 4)]\n"
     ]
    }
   ],
   "source": [
    "z = []\n",
    "z = [(x, y) for x in [3, 1, 4] for y in [3, 4, 7] if x == y]\n",
    "print(z)"
   ]
  },
  {
   "cell_type": "code",
   "execution_count": 25,
   "metadata": {},
   "outputs": [
    {
     "name": "stdout",
     "output_type": "stream",
     "text": [
      "{3: 'spring', 7: 'summer', 9: 'fall', 12: 'winter'}\n",
      "<class 'dict'>\n"
     ]
    }
   ],
   "source": [
    "#dictionary  comprehension\n",
    "y = {3 : 'spring', 7:'summer', 9:'fall', 12:'winter'}\n",
    "print(y)\n",
    "print(type(y))"
   ]
  },
  {
   "cell_type": "code",
   "execution_count": 35,
   "metadata": {},
   "outputs": [
    {
     "name": "stdout",
     "output_type": "stream",
     "text": [
      "1 2\n",
      "2 4\n",
      "3 6\n",
      "4 8\n"
     ]
    }
   ],
   "source": [
    "for x in range(1, 5):\n",
    "    print(x, x*2)\n"
   ]
  },
  {
   "cell_type": "code",
   "execution_count": 44,
   "metadata": {},
   "outputs": [
    {
     "name": "stdout",
     "output_type": "stream",
     "text": [
      "{(2, 4), (1, 2), (3, 6)}\n",
      "<class 'set'>\n",
      "{1: 2, 2: 4, 3: 6}\n"
     ]
    }
   ],
   "source": [
    "q = {(x, x*2) for x in range(1, 4)}\n",
    "print(q)\n",
    "print(type(q))\n",
    "q = {x: x*2 for x in range(1, 4)}\n",
    "dict(q)\n",
    "print(dict(q))"
   ]
  },
  {
   "cell_type": "code",
   "execution_count": 45,
   "metadata": {},
   "outputs": [
    {
     "name": "stdout",
     "output_type": "stream",
     "text": [
      "1 2\n",
      "2 3\n",
      "3 4\n"
     ]
    }
   ],
   "source": [
    "for x in range(1,4):\n",
    "    print(x, x+1)"
   ]
  },
  {
   "cell_type": "markdown",
   "metadata": {},
   "source": [
    "- dictionary.items() : 딕셔너리에 있는 key와 value의 쌍을 반환\n",
    "- dictionary.values() : 딕셔너리에 있는 values의 값 반환\n",
    "- list(zip(변수1, 변수2)) : 두 list 변수1과 변수2를 하나의 dictionary 생성"
   ]
  },
  {
   "cell_type": "code",
   "execution_count": 58,
   "metadata": {},
   "outputs": [
    {
     "name": "stdout",
     "output_type": "stream",
     "text": [
      "['apple', 'banana', 'mango']\n"
     ]
    }
   ],
   "source": [
    "fruits = [\"apple\", \"banana\", \"cherry\", \"kiwi\", \"mango\"]\n",
    "newlist = []\n",
    "\n",
    "for x in fruits:\n",
    "    if \"a\" in x:\n",
    "        newlist.append(x)\n",
    "\n",
    "print(newlist)"
   ]
  },
  {
   "cell_type": "code",
   "execution_count": 59,
   "metadata": {},
   "outputs": [
    {
     "name": "stdout",
     "output_type": "stream",
     "text": [
      "['apple', 'banana', 'mango']\n"
     ]
    }
   ],
   "source": [
    "newlist2 = [x for x in fruits if \"a\" in x]\n",
    "print(newlist2)"
   ]
  },
  {
   "cell_type": "code",
   "execution_count": 60,
   "metadata": {},
   "outputs": [
    {
     "name": "stdout",
     "output_type": "stream",
     "text": [
      "['APPLE', 'BANANA', 'CHERRY', 'KIWI', 'MANGO']\n"
     ]
    }
   ],
   "source": [
    "newlist3 = [x.upper() for x in fruits]\n",
    "print(newlist3)"
   ]
  },
  {
   "cell_type": "code",
   "execution_count": 61,
   "metadata": {},
   "outputs": [
    {
     "name": "stdout",
     "output_type": "stream",
     "text": [
      "['APPLE', 'BANANA', 'CHERRY', 'KIWI', 'MANGO']\n"
     ]
    }
   ],
   "source": [
    "newlist4 = []\n",
    "for x in fruits:\n",
    "    newlist4.append(x.upper())\n",
    "\n",
    "print(newlist4)"
   ]
  },
  {
   "cell_type": "code",
   "execution_count": 66,
   "metadata": {},
   "outputs": [],
   "source": [
    "newlist5 = [x if x != \"banana\" else \"orange\" for x in fruits]\n",
    "# \"Return the item if it is not banana, if it is banana return orange\".\n",
    "# ['apple', 'orange', 'cherry', 'kiwi', 'mango']"
   ]
  },
  {
   "cell_type": "code",
   "execution_count": 65,
   "metadata": {},
   "outputs": [
    {
     "name": "stdout",
     "output_type": "stream",
     "text": [
      "['apple', 'orange', 'cherry', 'kiwi', 'mango']\n"
     ]
    }
   ],
   "source": [
    "newlist5 = []\n",
    "for x in fruits:\n",
    "    if x == 'banana':\n",
    "        newlist5.append('orange')\n",
    "    else:\n",
    "        newlist5.append(x)\n",
    "print(newlist5)"
   ]
  },
  {
   "cell_type": "markdown",
   "metadata": {},
   "source": [
    "## 예외처리 exception\n",
    "- https://www.w3schools.com/python/python_try_except.asp <br>\n",
    "- https://dojang.io/mod/page/view.php?id=2398 <br>\n",
    "- https://docs.python.org/ko/3/tutorial/errors.html <br>\n",
    "- 예외 \n",
    "> 스크립트 실행하던 중에 error 발생 <br>\n",
    "> ZeroDivisionError, AttributeError, NameError, TypeError 등<br>\n",
    "- 예외 처리 \n",
    "> 예외가 발생해도 스크립트 실행을 중단하지 않고 계속 실행하게 해주는 방법 <br>\n",
    "> try <br>\n",
    "> except <br>\n",
    "> finally <br>"
   ]
  },
  {
   "cell_type": "code",
   "execution_count": 2,
   "metadata": {},
   "outputs": [],
   "source": [
    "def ten_div(x):\n",
    "    return 10 / x"
   ]
  },
  {
   "cell_type": "code",
   "execution_count": 3,
   "metadata": {},
   "outputs": [
    {
     "data": {
      "text/plain": [
       "5.0"
      ]
     },
     "execution_count": 3,
     "metadata": {},
     "output_type": "execute_result"
    }
   ],
   "source": [
    "ten_div(2)"
   ]
  },
  {
   "cell_type": "code",
   "execution_count": 6,
   "metadata": {},
   "outputs": [
    {
     "ename": "ZeroDivisionError",
     "evalue": "division by zero",
     "output_type": "error",
     "traceback": [
      "\u001b[1;31m---------------------------------------------------------------------------\u001b[0m",
      "\u001b[1;31mZeroDivisionError\u001b[0m                         Traceback (most recent call last)",
      "\u001b[1;32m<ipython-input-6-446b4e992a50>\u001b[0m in \u001b[0;36m<module>\u001b[1;34m\u001b[0m\n\u001b[1;32m----> 1\u001b[1;33m \u001b[0mten_div\u001b[0m\u001b[1;33m(\u001b[0m\u001b[1;36m0\u001b[0m\u001b[1;33m)\u001b[0m\u001b[1;33m\u001b[0m\u001b[1;33m\u001b[0m\u001b[0m\n\u001b[0m",
      "\u001b[1;32m<ipython-input-2-c70a7a1f26f8>\u001b[0m in \u001b[0;36mten_div\u001b[1;34m(x)\u001b[0m\n\u001b[0;32m      1\u001b[0m \u001b[1;32mdef\u001b[0m \u001b[0mten_div\u001b[0m\u001b[1;33m(\u001b[0m\u001b[0mx\u001b[0m\u001b[1;33m)\u001b[0m\u001b[1;33m:\u001b[0m\u001b[1;33m\u001b[0m\u001b[1;33m\u001b[0m\u001b[0m\n\u001b[1;32m----> 2\u001b[1;33m     \u001b[1;32mreturn\u001b[0m \u001b[1;36m10\u001b[0m \u001b[1;33m/\u001b[0m \u001b[0mx\u001b[0m\u001b[1;33m\u001b[0m\u001b[1;33m\u001b[0m\u001b[0m\n\u001b[0m",
      "\u001b[1;31mZeroDivisionError\u001b[0m: division by zero"
     ]
    }
   ],
   "source": [
    "ten_div(0)\n",
    "# ZeroDivisionError: division by zero \n",
    "# error 발생 => 스크립트 실행 중간 => 중단없이 실행하기 위해 예외 처리 필요"
   ]
  },
  {
   "cell_type": "markdown",
   "metadata": {},
   "source": [
    "## try except"
   ]
  },
  {
   "cell_type": "code",
   "execution_count": 12,
   "metadata": {},
   "outputs": [
    {
     "name": "stdout",
     "output_type": "stream",
     "text": [
      "나눌 숫자를 입력하세요: 0\n",
      "예외가 발생했습니다.\n"
     ]
    }
   ],
   "source": [
    "try:\n",
    "    x = int(input('나눌 숫자를 입력하세요: '))\n",
    "    y = 10 / x\n",
    "    print(y)\n",
    "except: #예외 발생했을 때 실행\n",
    "    print('예외가 발생했습니다.')"
   ]
  },
  {
   "cell_type": "code",
   "execution_count": 14,
   "metadata": {},
   "outputs": [
    {
     "name": "stdout",
     "output_type": "stream",
     "text": [
      "예외가 발생했습니다.\n"
     ]
    }
   ],
   "source": [
    "try:\n",
    "    x = int(input('나눌 숫자를 입력하세요: '))\n",
    "    y = 10 / x\n",
    "    print(y)\n",
    "except: \n",
    "    print('예외가 발생했습니다.')"
   ]
  },
  {
   "cell_type": "code",
   "execution_count": 19,
   "metadata": {},
   "outputs": [
    {
     "name": "stdout",
     "output_type": "stream",
     "text": [
      "인덱스와 나눌 숫자를 입력하세요: 1 5\n",
      "4.0\n"
     ]
    }
   ],
   "source": [
    "y = [10, 20, 30]\n",
    " \n",
    "try:\n",
    "    index, x = map(int, input('인덱스와 나눌 숫자를 입력하세요: ').split())\n",
    "    print(y[index] / x)\n",
    "except ZeroDivisionError:    \n",
    "    print('숫자를 0으로 나눌 수 없습니다.')\n",
    "except IndexError:           \n",
    "    print('잘못된 인덱스입니다.')"
   ]
  },
  {
   "cell_type": "markdown",
   "metadata": {},
   "source": [
    "## 특정 예외만 처리하기"
   ]
  },
  {
   "cell_type": "code",
   "execution_count": 16,
   "metadata": {},
   "outputs": [
    {
     "name": "stdout",
     "output_type": "stream",
     "text": [
      "인덱스와 나눌 숫자를 입력하세요: 3 2\n",
      "잘못된 인덱스입니다.\n"
     ]
    }
   ],
   "source": [
    "y = [10, 20, 30]\n",
    " \n",
    "try:\n",
    "    index, x = map(int, input('인덱스와 나눌 숫자를 입력하세요: ').split())\n",
    "    print(y[index] / x)\n",
    "except ZeroDivisionError:   \n",
    "    print('숫자를 0으로 나눌 수 없습니다.')\n",
    "except IndexError:         # 인덱스의 범위를 벗어나 에러가 발생\n",
    "    print('잘못된 인덱스입니다.')"
   ]
  },
  {
   "cell_type": "code",
   "execution_count": 18,
   "metadata": {},
   "outputs": [
    {
     "name": "stdout",
     "output_type": "stream",
     "text": [
      "인덱스와 나눌 숫자를 입력하세요: 1 0\n",
      "숫자를 0으로 나눌 수 없습니다.\n"
     ]
    }
   ],
   "source": [
    "y = [10, 20, 30]\n",
    " \n",
    "try:\n",
    "    index, x = map(int, input('인덱스와 나눌 숫자를 입력하세요: ').split())\n",
    "    print(y[index] / x)\n",
    "except ZeroDivisionError:   #숫자를 0으로 나눠서 에러가 발생 \n",
    "    print('숫자를 0으로 나눌 수 없습니다.')\n",
    "except IndexError:           \n",
    "    print('잘못된 인덱스입니다.')"
   ]
  },
  {
   "cell_type": "markdown",
   "metadata": {},
   "source": [
    "## 예외의 에러 메시지 받기"
   ]
  },
  {
   "cell_type": "code",
   "execution_count": 20,
   "metadata": {},
   "outputs": [
    {
     "name": "stdout",
     "output_type": "stream",
     "text": [
      "인덱스와 나눌 숫자를 입력하세요: 3 2\n",
      "잘못된 인덱스입니다. list index out of range\n"
     ]
    }
   ],
   "source": [
    "y = [10, 20, 30]\n",
    " \n",
    "try:\n",
    "    index, x = map(int, input('인덱스와 나눌 숫자를 입력하세요: ').split())\n",
    "    print(y[index] / x)\n",
    "except ZeroDivisionError as e:    \n",
    "    print('숫자를 0으로 나눌 수 없습니다.', e)\n",
    "except IndexError as e:           \n",
    "    print('잘못된 인덱스입니다.', e)"
   ]
  },
  {
   "cell_type": "code",
   "execution_count": 21,
   "metadata": {},
   "outputs": [
    {
     "name": "stdout",
     "output_type": "stream",
     "text": [
      "인덱스와 나눌 숫자를 입력하세요: 1 0\n",
      "숫자를 0으로 나눌 수 없습니다. division by zero\n"
     ]
    }
   ],
   "source": [
    "# 예외의 에러 메시지 받기\n",
    "y = [10, 20, 30]\n",
    " \n",
    "try:\n",
    "    index, x = map(int, input('인덱스와 나눌 숫자를 입력하세요: ').split())\n",
    "    print(y[index] / x)\n",
    "except ZeroDivisionError as e:    \n",
    "    print('숫자를 0으로 나눌 수 없습니다.', e)\n",
    "except IndexError as e:           \n",
    "    print('잘못된 인덱스입니다.', e)"
   ]
  },
  {
   "cell_type": "markdown",
   "metadata": {},
   "source": [
    "## 예외의 에러 발생하지 않았을 경우 "
   ]
  },
  {
   "cell_type": "code",
   "execution_count": 31,
   "metadata": {},
   "outputs": [
    {
     "name": "stdout",
     "output_type": "stream",
     "text": [
      "인덱스와 나눌 숫자를 입력하세요: 3 2\n",
      "입력하신 인덱스엔 데이터가 존재하지 않습니다 list index out of range\n"
     ]
    }
   ],
   "source": [
    "data = [10, 20, 30]\n",
    "\n",
    "try:\n",
    "    #map(int, 입력)\n",
    "    #입력되는 데이터를 split()로 구분 후에 int로 변환해주는 코드\n",
    "    index, div_number = map(int, input('인덱스와 나눌 숫자를 입력하세요: ').split())\n",
    "    print('연산된 결과값 ', data[index] / div_number)\n",
    "        \n",
    "except ZeroDivisionError as e:    \n",
    "    print('숫자를 0으로 나눌 수 없습니다.', e)\n",
    "    \n",
    "except IndexError as e:           \n",
    "    print('입력하신 인덱스엔 데이터가 존재하지 않습니다', e)\n",
    "\n",
    "else:\n",
    "    print('예외가 발생되지 않았을때만 실행되는 블록')"
   ]
  },
  {
   "cell_type": "code",
   "execution_count": 32,
   "metadata": {},
   "outputs": [
    {
     "name": "stdout",
     "output_type": "stream",
     "text": [
      "인덱스와 나눌 숫자를 입력하세요: 1 0\n",
      "숫자를 0으로 나눌 수 없습니다. division by zero\n"
     ]
    }
   ],
   "source": [
    "data = [10, 20, 30]\n",
    "\n",
    "try:\n",
    "    index, div_number = map(int, input('인덱스와 나눌 숫자를 입력하세요: ').split())\n",
    "    print('연산된 결과값 ', data[index] / div_number)\n",
    "        \n",
    "except ZeroDivisionError as e:    \n",
    "    print('숫자를 0으로 나눌 수 없습니다.', e)\n",
    "    \n",
    "except IndexError as e:           \n",
    "    print('입력하신 인덱스엔 데이터가 존재하지 않습니다', e)\n",
    "\n",
    "else:\n",
    "    print('예외가 발생되지 않았을때만 실행되는 블록')"
   ]
  },
  {
   "cell_type": "code",
   "execution_count": 33,
   "metadata": {},
   "outputs": [
    {
     "name": "stdout",
     "output_type": "stream",
     "text": [
      "인덱스와 나눌 숫자를 입력하세요: 1 5\n",
      "연산된 결과값  4.0\n",
      "예외가 발생되지 않았을때만 실행되는 블록\n"
     ]
    }
   ],
   "source": [
    "data = [10, 20, 30]\n",
    "\n",
    "try:\n",
    "    index, div_number = map(int, input('인덱스와 나눌 숫자를 입력하세요: ').split())\n",
    "    print('연산된 결과값 ', data[index] / div_number)\n",
    "        \n",
    "except ZeroDivisionError as e:    \n",
    "    print('숫자를 0으로 나눌 수 없습니다.', e)\n",
    "    \n",
    "except IndexError as e:           \n",
    "    print('입력하신 인덱스엔 데이터가 존재하지 않습니다', e)\n",
    "\n",
    "else:\n",
    "    print('예외가 발생되지 않았을때만 실행되는 블록')"
   ]
  },
  {
   "cell_type": "markdown",
   "metadata": {},
   "source": [
    "## 예외와 무관하게 항상 실행되는 코드 "
   ]
  },
  {
   "cell_type": "code",
   "execution_count": 34,
   "metadata": {},
   "outputs": [
    {
     "name": "stdout",
     "output_type": "stream",
     "text": [
      "인덱스와 나눌 숫자를 입력하세요: 3 2\n",
      "입력하신 인덱스엔 데이터가 존재하지 않습니다 list index out of range\n",
      "100% 실행 보장 - 로직 종료\n"
     ]
    }
   ],
   "source": [
    "data = [10, 20, 30]\n",
    "\n",
    "try:\n",
    "    index, div_number = map(int, input('인덱스와 나눌 숫자를 입력하세요: ').split())\n",
    "    print('연산된 결과값 ', data[index] / div_number)\n",
    "        \n",
    "except ZeroDivisionError as e:    \n",
    "    print('숫자를 0으로 나눌 수 없습니다.', e)\n",
    "    \n",
    "except IndexError as e:           \n",
    "    print('입력하신 인덱스엔 데이터가 존재하지 않습니다', e)\n",
    "\n",
    "else:\n",
    "    print('예외가 발생되지 않았을때만 실행되는 블록')\n",
    "\n",
    "finally:\n",
    "    print('100% 실행 보장 - 로직 종료')"
   ]
  },
  {
   "cell_type": "code",
   "execution_count": 35,
   "metadata": {},
   "outputs": [
    {
     "name": "stdout",
     "output_type": "stream",
     "text": [
      "인덱스와 나눌 숫자를 입력하세요: 1 0\n",
      "숫자를 0으로 나눌 수 없습니다. division by zero\n",
      "100% 실행 보장 - 로직 종료\n"
     ]
    }
   ],
   "source": [
    "data = [10, 20, 30]\n",
    "\n",
    "try:\n",
    "    index, div_number = map(int, input('인덱스와 나눌 숫자를 입력하세요: ').split())\n",
    "    print('연산된 결과값 ', data[index] / div_number)\n",
    "        \n",
    "except ZeroDivisionError as e:    \n",
    "    print('숫자를 0으로 나눌 수 없습니다.', e)\n",
    "    \n",
    "except IndexError as e:           \n",
    "    print('입력하신 인덱스엔 데이터가 존재하지 않습니다', e)\n",
    "\n",
    "else:\n",
    "    print('예외가 발생되지 않았을때만 실행되는 블록')\n",
    "\n",
    "finally:\n",
    "    print('100% 실행 보장 - 로직 종료')"
   ]
  },
  {
   "cell_type": "code",
   "execution_count": 36,
   "metadata": {},
   "outputs": [
    {
     "name": "stdout",
     "output_type": "stream",
     "text": [
      "인덱스와 나눌 숫자를 입력하세요: 1 5\n",
      "연산된 결과값  4.0\n",
      "예외가 발생되지 않았을때만 실행되는 블록\n",
      "100% 실행 보장 - 로직 종료\n"
     ]
    }
   ],
   "source": [
    "data = [10, 20, 30]\n",
    "\n",
    "try:\n",
    "    index, div_number = map(int, input('인덱스와 나눌 숫자를 입력하세요: ').split())\n",
    "    print('연산된 결과값 ', data[index] / div_number)\n",
    "        \n",
    "except ZeroDivisionError as e:    \n",
    "    print('숫자를 0으로 나눌 수 없습니다.', e)\n",
    "    \n",
    "except IndexError as e:           \n",
    "    print('입력하신 인덱스엔 데이터가 존재하지 않습니다', e)\n",
    "\n",
    "else:\n",
    "    print('예외가 발생되지 않았을때만 실행되는 블록')\n",
    "\n",
    "finally:\n",
    "    print('100% 실행 보장 - 로직 종료')"
   ]
  },
  {
   "cell_type": "code",
   "execution_count": 41,
   "metadata": {},
   "outputs": [
    {
     "name": "stdout",
     "output_type": "stream",
     "text": [
      "Hello\n",
      "Nothing went wrong\n"
     ]
    }
   ],
   "source": [
    "try:\n",
    "    print(\"Hello\")\n",
    "except: #print(x) 정상 실행됨므로 except: 해당사항없음(출력되지 않음)\n",
    "    print(\"Something went wrong\")\n",
    "else:   # 예외가 발생하지 않았으므로  else: 실행\n",
    "    print(\"Nothing went wrong\")"
   ]
  },
  {
   "cell_type": "code",
   "execution_count": 42,
   "metadata": {},
   "outputs": [
    {
     "name": "stdout",
     "output_type": "stream",
     "text": [
      "hi\n",
      "The 'try except' is finished\n"
     ]
    }
   ],
   "source": [
    "x = 'hi'\n",
    "y = 'hello'\n",
    "\n",
    "try:\n",
    "    print(x)\n",
    "except: #print(x) 정상 실행됨므로 except: 해당사항없음(출력되지 않음)\n",
    "    print(\"Something went wrong\")\n",
    "finally: #finally 는 예외실행결과에 상관없이 실행 \n",
    "    print(\"The 'try except' is finished\")"
   ]
  },
  {
   "cell_type": "code",
   "execution_count": 45,
   "metadata": {
    "scrolled": true
   },
   "outputs": [
    {
     "ename": "Exception",
     "evalue": "Sorry, no numbers below zero",
     "output_type": "error",
     "traceback": [
      "\u001b[1;31m---------------------------------------------------------------------------\u001b[0m",
      "\u001b[1;31mException\u001b[0m                                 Traceback (most recent call last)",
      "\u001b[1;32m<ipython-input-45-6eccd0a898a9>\u001b[0m in \u001b[0;36m<module>\u001b[1;34m\u001b[0m\n\u001b[0;32m      3\u001b[0m \u001b[1;32mif\u001b[0m \u001b[0mx\u001b[0m \u001b[1;33m<\u001b[0m \u001b[1;36m0\u001b[0m\u001b[1;33m:\u001b[0m\u001b[1;33m\u001b[0m\u001b[1;33m\u001b[0m\u001b[0m\n\u001b[0;32m      4\u001b[0m \u001b[1;33m\u001b[0m\u001b[0m\n\u001b[1;32m----> 5\u001b[1;33m     \u001b[1;32mraise\u001b[0m \u001b[0mException\u001b[0m\u001b[1;33m(\u001b[0m\u001b[1;34m\"Sorry, no numbers below zero\"\u001b[0m\u001b[1;33m)\u001b[0m\u001b[1;33m\u001b[0m\u001b[1;33m\u001b[0m\u001b[0m\n\u001b[0m",
      "\u001b[1;31mException\u001b[0m: Sorry, no numbers below zero"
     ]
    }
   ],
   "source": [
    "x = -1\n",
    "\n",
    "if x < 0:\n",
    "    # raise : 현재 스코프에서 활성화된 마지막 예외를 다시 일으킵니다.\n",
    "    # 현재 스코프에 활성화된 예외가 없다면,\n",
    "    # 이것이 에러라는 것을 알리기 위해 RuntimeError 예외를 일으킵니다. \n",
    "    # https://docs.python.org/ko/3/reference/simple_stmts.html#raise\n",
    "    raise Exception(\"Sorry, no numbers below zero\")"
   ]
  },
  {
   "cell_type": "code",
   "execution_count": 46,
   "metadata": {},
   "outputs": [
    {
     "ename": "TypeError",
     "evalue": "Only integers are allowed",
     "output_type": "error",
     "traceback": [
      "\u001b[1;31m---------------------------------------------------------------------------\u001b[0m",
      "\u001b[1;31mTypeError\u001b[0m                                 Traceback (most recent call last)",
      "\u001b[1;32m<ipython-input-46-75047f5dae4a>\u001b[0m in \u001b[0;36m<module>\u001b[1;34m\u001b[0m\n\u001b[0;32m      2\u001b[0m \u001b[1;33m\u001b[0m\u001b[0m\n\u001b[0;32m      3\u001b[0m \u001b[1;32mif\u001b[0m \u001b[1;32mnot\u001b[0m \u001b[0mtype\u001b[0m\u001b[1;33m(\u001b[0m\u001b[0mx\u001b[0m\u001b[1;33m)\u001b[0m \u001b[1;32mis\u001b[0m \u001b[0mint\u001b[0m\u001b[1;33m:\u001b[0m\u001b[1;33m\u001b[0m\u001b[1;33m\u001b[0m\u001b[0m\n\u001b[1;32m----> 4\u001b[1;33m     \u001b[1;32mraise\u001b[0m \u001b[0mTypeError\u001b[0m\u001b[1;33m(\u001b[0m\u001b[1;34m\"Only integers are allowed\"\u001b[0m\u001b[1;33m)\u001b[0m\u001b[1;33m\u001b[0m\u001b[1;33m\u001b[0m\u001b[0m\n\u001b[0m",
      "\u001b[1;31mTypeError\u001b[0m: Only integers are allowed"
     ]
    }
   ],
   "source": [
    "x = \"hello\"\n",
    "\n",
    "if not type(x) is int:\n",
    "    raise TypeError(\"Only integers are allowed\")"
   ]
  },
  {
   "cell_type": "code",
   "execution_count": 49,
   "metadata": {},
   "outputs": [
    {
     "name": "stdout",
     "output_type": "stream",
     "text": [
      "반려동물 등길이를 입력해 주세요: 3,2\n",
      "잘못입력하셨습니다.\n"
     ]
    }
   ],
   "source": [
    "# 반려동물의 등길이가 10초과 15 이하는 small, 15초과 30이하는 medium, 30초과 40이하는 large,\n",
    "# 10 이하 40초과는 '사이즈가 준비되지 않았습니다' \n",
    "# 예외 : 문자입력시 '잘못입력하셨습니다.' \n",
    "try:\n",
    "    size = int(input('반려동물 등길이를 입력해 주세요: '))\n",
    "    if (10 < size <= 15):\n",
    "        print('small')\n",
    "    elif (15 < size <= 30):\n",
    "        print('medium')\n",
    "    elif (30 < size <= 40):\n",
    "        print('large')\n",
    "    else: \n",
    "        print('사이즈가 준비되지 않았습니다.')\n",
    "except ValueError:\n",
    "    print('잘못입력하셨습니다.')"
   ]
  },
  {
   "cell_type": "markdown",
   "metadata": {},
   "source": [
    "## assertion\n",
    "- 어떤 조건을 테스트(결과가 True: 아무일도 일어나지 않음/ False: AssertionError이 발생)하는 디버깅 환경에서의 보조 도구 <br>\n",
    "- 상하지 않은 프로그램의 상태를 확인하기 위해 활용  <br>\n",
    "- assert_stmt ::= \"assert\" expression1 [\",\", expression2] <br>\n",
    "> expression1 : 테스트 조건 <br>\n",
    "> expression2 : 테스트조건이 거짓일때 예외전달 메시지 <br>\n",
    "- https://www.w3schools.com/python/ref_keyword_assert.asp <br>"
   ]
  },
  {
   "cell_type": "code",
   "execution_count": null,
   "metadata": {},
   "outputs": [],
   "source": [
    "def checkPositive(v):\n",
    "    assert v > 0, '0 보다 큰 수가 아닙니다'\n",
    "    \n",
    "    # assert 조건식 'AssertionError으로 실행되는 부분'\n",
    "    #True - 실행, False 'AssertionError'\n",
    "    #paramenter 값이 0 이하인 경우엔 실행 불가인 영역의 코드\n",
    "    \n",
    "    print(\"단정문 실행 직후\")\n",
    "    return '0 보다 큰 수입니다'"
   ]
  },
  {
   "cell_type": "code",
   "execution_count": 62,
   "metadata": {},
   "outputs": [],
   "source": [
    "x = \"hello\"\n",
    "\n",
    "#if condition returns True, then nothing happens:\n",
    "assert x == \"hello\""
   ]
  },
  {
   "cell_type": "code",
   "execution_count": 63,
   "metadata": {},
   "outputs": [
    {
     "ename": "AssertionError",
     "evalue": "",
     "output_type": "error",
     "traceback": [
      "\u001b[1;31m---------------------------------------------------------------------------\u001b[0m",
      "\u001b[1;31mAssertionError\u001b[0m                            Traceback (most recent call last)",
      "\u001b[1;32m<ipython-input-63-ec0546d2e9c3>\u001b[0m in \u001b[0;36m<module>\u001b[1;34m\u001b[0m\n\u001b[0;32m      1\u001b[0m \u001b[1;31m#if condition returns False, AssertionError is raised:\u001b[0m\u001b[1;33m\u001b[0m\u001b[1;33m\u001b[0m\u001b[1;33m\u001b[0m\u001b[0m\n\u001b[1;32m----> 2\u001b[1;33m \u001b[1;32massert\u001b[0m \u001b[0mx\u001b[0m \u001b[1;33m==\u001b[0m \u001b[1;34m\"goodbye\"\u001b[0m\u001b[1;33m\u001b[0m\u001b[1;33m\u001b[0m\u001b[0m\n\u001b[0m",
      "\u001b[1;31mAssertionError\u001b[0m: "
     ]
    }
   ],
   "source": [
    "#if condition returns False, AssertionError is raised:\n",
    "assert x == \"goodbye\""
   ]
  },
  {
   "cell_type": "code",
   "execution_count": 64,
   "metadata": {},
   "outputs": [
    {
     "ename": "AssertionError",
     "evalue": "x should be 'hello'",
     "output_type": "error",
     "traceback": [
      "\u001b[1;31m---------------------------------------------------------------------------\u001b[0m",
      "\u001b[1;31mAssertionError\u001b[0m                            Traceback (most recent call last)",
      "\u001b[1;32m<ipython-input-64-a13cd6e9aadd>\u001b[0m in \u001b[0;36m<module>\u001b[1;34m\u001b[0m\n\u001b[0;32m      2\u001b[0m \u001b[1;33m\u001b[0m\u001b[0m\n\u001b[0;32m      3\u001b[0m \u001b[1;31m#if condition returns False, AssertionError is raised:\u001b[0m\u001b[1;33m\u001b[0m\u001b[1;33m\u001b[0m\u001b[1;33m\u001b[0m\u001b[0m\n\u001b[1;32m----> 4\u001b[1;33m \u001b[1;32massert\u001b[0m \u001b[0mx\u001b[0m \u001b[1;33m==\u001b[0m \u001b[1;34m\"goodbye\"\u001b[0m\u001b[1;33m,\u001b[0m \u001b[1;34m\"x should be 'hello'\"\u001b[0m\u001b[1;33m\u001b[0m\u001b[1;33m\u001b[0m\u001b[0m\n\u001b[0m",
      "\u001b[1;31mAssertionError\u001b[0m: x should be 'hello'"
     ]
    }
   ],
   "source": [
    "x = \"hello\"\n",
    "\n",
    "#if condition returns False, AssertionError is raised: AssertionError : \"x should be 'hello'\"\n",
    "assert x == \"goodbye\", \"x should be 'hello'\""
   ]
  },
  {
   "cell_type": "code",
   "execution_count": null,
   "metadata": {},
   "outputs": [],
   "source": []
  },
  {
   "cell_type": "markdown",
   "metadata": {},
   "source": [
    "## Class\n",
    "- class - 객체(데이터들을 하나의 단위로 관리하는 실제 사용 가능한 메모리상의 영역)을 사용하게 해주는 설계도 (붕어빵 - 객체, 붕어빵틀 - class) <br>\n",
    "- 객체(object) - 메모리에 사용 가능하게 생성된 데이터 집합 <br>\n",
    "- __init__() <br>\n",
    "> Class가 시작할때 항상 실행\n",
    "> object에 특성을 부여하거나 객체가 생성될 때 필요\n",
    "- \n",
    "> getName() : \n",
    "> setName() : \n",
    ">\n",
    "- https://www.w3schools.com/python/python_classes.asp\n"
   ]
  },
  {
   "cell_type": "code",
   "execution_count": 90,
   "metadata": {},
   "outputs": [
    {
     "name": "stdout",
     "output_type": "stream",
     "text": [
      "그루\n",
      "11\n",
      "mixed\n",
      "<__main__.Dog object at 0x000002DAE3417970>\n"
     ]
    }
   ],
   "source": [
    "class Dog:\n",
    "    def __init__(self, name, age, sp):\n",
    "        self.name = name\n",
    "        self.age = age\n",
    "        self.sp = sp\n",
    "    \n",
    "    def getName(self): # self 없으면 error!!\n",
    "        return self.name\n",
    "    \n",
    "    def setName(self, name): #멤버 변수값 변경\n",
    "        self.name = name\n",
    "    \n",
    "d1 = Dog(\"그루\", 11, 'mixed')\n",
    "\n",
    "print(d1.name)\n",
    "print(d1.age)\n",
    "print(d1.sp)\n",
    "print(d1)"
   ]
  },
  {
   "cell_type": "code",
   "execution_count": 91,
   "metadata": {},
   "outputs": [
    {
     "name": "stdout",
     "output_type": "stream",
     "text": [
      "몽구\n",
      "17\n",
      "pomeranian\n",
      "<__main__.Dog object at 0x000002DAE34171C0>\n"
     ]
    }
   ],
   "source": [
    "d2 = Dog('몽구', 17, 'pomeranian')\n",
    "print(d2.name)\n",
    "print(d2.age)\n",
    "print(d2.sp)\n",
    "print(d2)"
   ]
  },
  {
   "cell_type": "code",
   "execution_count": 92,
   "metadata": {},
   "outputs": [
    {
     "name": "stdout",
     "output_type": "stream",
     "text": [
      "몽구\n"
     ]
    }
   ],
   "source": [
    "print(d2.getName())"
   ]
  },
  {
   "cell_type": "code",
   "execution_count": 93,
   "metadata": {},
   "outputs": [
    {
     "name": "stdout",
     "output_type": "stream",
     "text": [
      "뭉구\n"
     ]
    }
   ],
   "source": [
    "d2.setName('뭉구')\n",
    "print(d2.name)"
   ]
  },
  {
   "cell_type": "code",
   "execution_count": null,
   "metadata": {},
   "outputs": [],
   "source": []
  }
 ],
 "metadata": {
  "kernelspec": {
   "display_name": "Python 3",
   "language": "python",
   "name": "python3"
  },
  "language_info": {
   "codemirror_mode": {
    "name": "ipython",
    "version": 3
   },
   "file_extension": ".py",
   "mimetype": "text/x-python",
   "name": "python",
   "nbconvert_exporter": "python",
   "pygments_lexer": "ipython3",
   "version": "3.8.5"
  }
 },
 "nbformat": 4,
 "nbformat_minor": 4
}
