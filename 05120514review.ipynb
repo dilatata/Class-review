{
 "cells": [
  {
   "cell_type": "markdown",
   "metadata": {},
   "source": [
    "파이썬 계산기"
   ]
  },
  {
   "cell_type": "code",
   "execution_count": 3,
   "metadata": {},
   "outputs": [
    {
     "data": {
      "text/plain": [
       "6"
      ]
     },
     "execution_count": 3,
     "metadata": {},
     "output_type": "execute_result"
    }
   ],
   "source": [
    "4+2"
   ]
  },
  {
   "cell_type": "code",
   "execution_count": 2,
   "metadata": {},
   "outputs": [
    {
     "data": {
      "text/plain": [
       "2"
      ]
     },
     "execution_count": 2,
     "metadata": {},
     "output_type": "execute_result"
    }
   ],
   "source": [
    "4-2"
   ]
  },
  {
   "cell_type": "code",
   "execution_count": 7,
   "metadata": {},
   "outputs": [
    {
     "data": {
      "text/plain": [
       "8"
      ]
     },
     "execution_count": 7,
     "metadata": {},
     "output_type": "execute_result"
    }
   ],
   "source": [
    "4*2"
   ]
  },
  {
   "cell_type": "code",
   "execution_count": 8,
   "metadata": {},
   "outputs": [
    {
     "name": "stdout",
     "output_type": "stream",
     "text": [
      "2.0\n",
      "2\n",
      "0\n"
     ]
    }
   ],
   "source": [
    "print(4/2)\n",
    "print(4//2)\n",
    "print(4%2)"
   ]
  },
  {
   "cell_type": "code",
   "execution_count": 9,
   "metadata": {},
   "outputs": [
    {
     "name": "stdout",
     "output_type": "stream",
     "text": [
      "32\n",
      "3000\n",
      "3000.0\n"
     ]
    }
   ],
   "source": [
    "#과학적 표기법\n",
    "print(2 ** 5)\n",
    "print(3*10**3)\n",
    "print(3e3)"
   ]
  },
  {
   "cell_type": "code",
   "execution_count": 14,
   "metadata": {},
   "outputs": [
    {
     "name": "stdout",
     "output_type": "stream",
     "text": [
      "17\n",
      "17 0b10001 17 0o21 17 0x11 "
     ]
    }
   ],
   "source": [
    "#진수 표현\n",
    "print(17)\n",
    "print(0b10001, bin(17), end = ' ') #2진수\n",
    "print(0o21, oct(17), end = ' ') #8진수\n",
    "print(0x11, hex(17), end = ' ') #16진수"
   ]
  },
  {
   "cell_type": "code",
   "execution_count": 2,
   "metadata": {},
   "outputs": [
    {
     "name": "stdout",
     "output_type": "stream",
     "text": [
      "True\n",
      "False\n",
      "False\n"
     ]
    }
   ],
   "source": [
    "#문자열 타입 비교\n",
    "print('a' == 'a')\n",
    "print('a' == 'A')\n",
    "print(1 != 1)"
   ]
  },
  {
   "cell_type": "markdown",
   "metadata": {},
   "source": [
    "> pass - 아무것도 실행하지 않음<br>\n",
    "> continue - 해당 로직을 제외하고 loop 실행 <br>\n",
    "> for - 정해진 횟수만큼 반복 <br>\n",
    "> while - 해당 조건이 만족되는 동안 반복 <br>\n",
    "> def() - 사용자 정의 함수 생성 선언구, ()표기로 변수를 받음, 변수선언(parameter, argument)<br>\n",
    "> return  - 함수 내부에서 해당 함수를 호출한 곳으로 값을 돌려주는 키워드<br>\n",
    "> if / elif / else - 반복문, 다중조건신 <br>\n",
    "> True / False - Boolean <br>\n",
    "> print() - 콜솔창에 출력 <br>\n",
    "> range(m, n, r) = m ~ n-1 r을 간격으로"
   ]
  },
  {
   "cell_type": "code",
   "execution_count": null,
   "metadata": {},
   "outputs": [],
   "source": [
    "dd"
   ]
  },
  {
   "cell_type": "code",
   "execution_count": 5,
   "metadata": {},
   "outputs": [
    {
     "name": "stdout",
     "output_type": "stream",
     "text": [
      "True\n"
     ]
    }
   ],
   "source": [
    "if 'a' == 'a':\n",
    "    print('True')"
   ]
  },
  {
   "cell_type": "code",
   "execution_count": 9,
   "metadata": {},
   "outputs": [
    {
     "name": "stdout",
     "output_type": "stream",
     "text": [
      "False\n"
     ]
    }
   ],
   "source": [
    "if 'a' != 'a':\n",
    "    print('True')\n",
    "else:\n",
    "    print('False')"
   ]
  },
  {
   "cell_type": "code",
   "execution_count": 41,
   "metadata": {},
   "outputs": [
    {
     "name": "stdout",
     "output_type": "stream",
     "text": [
      "7보다 작다\n",
      "7보다 크고 10보다 작거나 같다\n",
      "13 는 10보다 큰 수\n"
     ]
    }
   ],
   "source": [
    "def func1(a):\n",
    "    if a < 7:  \n",
    "        print(\"7보다 작다\") \n",
    "    elif a <= 10 :\n",
    "        print(\"7보다 크고 10보다 작거나 같다\") \n",
    "    else:\n",
    "        print(a, \"는 10보다 큰 수\")\n",
    "\n",
    "func1(5)\n",
    "func1(8)\n",
    "func1(13)"
   ]
  },
  {
   "cell_type": "markdown",
   "metadata": {},
   "source": [
    "> A and B - A와 B 조건 모두 부합 <br>\n",
    "> A or B - A와 B 조건 중 하나라도 부합"
   ]
  },
  {
   "cell_type": "code",
   "execution_count": 17,
   "metadata": {},
   "outputs": [
    {
     "name": "stdout",
     "output_type": "stream",
     "text": [
      "login 성공\n",
      "login 실패\n"
     ]
    }
   ],
   "source": [
    "#id = std, pw = 7777 만이 유효하다고 가정\n",
    "\n",
    "def login_check(id, pw):\n",
    "    if id == 'std' and pw ==7777:\n",
    "        print('login 성공')\n",
    "    else:\n",
    "        print('login 실패')\n",
    "        \n",
    "login_check('std', 7777)\n",
    "login_check('std', 666)"
   ]
  },
  {
   "cell_type": "code",
   "execution_count": 29,
   "metadata": {},
   "outputs": [
    {
     "name": "stdout",
     "output_type": "stream",
     "text": [
      "login 성공\n",
      "잘못된 pw 입니다\n",
      "잘못된 id 입니다\n"
     ]
    }
   ],
   "source": [
    "def login_check2(id, pw):\n",
    "    if id == 'std':\n",
    "        if pw ==7777:\n",
    "            print('login 성공')\n",
    "        else:\n",
    "            print('잘못된 pw 입니다')\n",
    "    else:\n",
    "        print('잘못된 id 입니다')\n",
    "    \n",
    "\n",
    "login_check2('std', 7777)\n",
    "login_check2('std', 666)\n",
    "login_check2('std2', 7777)"
   ]
  },
  {
   "cell_type": "markdown",
   "metadata": {},
   "source": [
    "list \n",
    "> 다수의 데이터들을 하나의 변수로 관리 <br> \n",
    "> 하나의 자료형으로 선언하거나 여러가지 자료형을 사용 가능 \n",
    "> 동적으로 변경이 가능하다 <br>\n",
    "> list명[n] - 해당 list의 n번째 data 수정, 삭제가 가능 <br>"
   ]
  },
  {
   "cell_type": "code",
   "execution_count": 43,
   "metadata": {},
   "outputs": [
    {
     "name": "stdout",
     "output_type": "stream",
     "text": [
      "<class 'str'> <class 'str'> <class 'str'>\n",
      "<class 'list'>\n",
      "<class 'list'>\n"
     ]
    }
   ],
   "source": [
    "str = 'summer'\n",
    "w1 = str[0]\n",
    "w2 = str[1]\n",
    "\n",
    "print(type(str),type(w1), type(w2))\n",
    "\n",
    "str2 = ['sprint', 'summer']\n",
    "print(type(str2))\n",
    "\n",
    "str3 = ['fall', 'winter', 12]\n",
    "print(type(str3))"
   ]
  },
  {
   "cell_type": "code",
   "execution_count": 31,
   "metadata": {},
   "outputs": [
    {
     "name": "stdout",
     "output_type": "stream",
     "text": [
      "[1, 3, 5, 7, 8]\n",
      "<class 'list'>\n",
      "[1, 3, 5, 7, 9]\n",
      "<class 'list'>\n"
     ]
    }
   ],
   "source": [
    "lst = [1, 3, 5, 7, 8]\n",
    "\n",
    "print(lst)\n",
    "print(type(lst))\n",
    "\n",
    "lst[4] = 9\n",
    "print(lst)\n",
    "print(type(lst))"
   ]
  },
  {
   "cell_type": "markdown",
   "metadata": {},
   "source": [
    "> input() - 실시간으로 데이터를 입력할 수 있게하는 함수 <br>\n",
    "\n",
    "반복문\n",
    "> for <br>\n",
    "> while <br>\n",
    "\n",
    "> break <br>\n",
    "> continue  <br>\n"
   ]
  },
  {
   "cell_type": "code",
   "execution_count": 44,
   "metadata": {},
   "outputs": [
    {
     "name": "stdout",
     "output_type": "stream",
     "text": [
      "sprint\n",
      "summer\n",
      "fall\n",
      "winter\n"
     ]
    }
   ],
   "source": [
    "year = ['sprint', 'summer', 'fall', 'winter']\n",
    "\n",
    "for season in year:\n",
    "    print(season)"
   ]
  },
  {
   "cell_type": "code",
   "execution_count": 45,
   "metadata": {},
   "outputs": [
    {
     "name": "stdout",
     "output_type": "stream",
     "text": [
      "sprint summer fall winter "
     ]
    }
   ],
   "source": [
    "# end='' - 이용해 for문이 반복되면서 데이터가 한 줄에 출력되도록\n",
    "for season2 in year:\n",
    "    print(season2, end=' ')"
   ]
  },
  {
   "cell_type": "code",
   "execution_count": 51,
   "metadata": {},
   "outputs": [
    {
     "name": "stdout",
     "output_type": "stream",
     "text": [
      "0 1 2 3 4 5 6 7 8 9 \n",
      "0 1 2 3 4 5 6 7 8 9 \n",
      "1 2 3 4 5 6 7 8 9 \n",
      "1 3 5 7 9 "
     ]
    }
   ],
   "source": [
    "#range(a,b,c) ! 0번째 ndex로부터 a개\n",
    "\n",
    "for num in range(10):\n",
    "    print(num, end=' ')\n",
    "print()\n",
    "    \n",
    "for num2 in range(0, 10):\n",
    "    print(num2, end=' ')\n",
    "print()\n",
    "    \n",
    "for num3 in range(1, 10):\n",
    "    print(num3, end=' ')\n",
    "print()\n",
    "    \n",
    "for num4 in range(1, 10, 2):\n",
    "    print(num4, end=' ')"
   ]
  },
  {
   "cell_type": "code",
   "execution_count": 60,
   "metadata": {},
   "outputs": [
    {
     "name": "stdout",
     "output_type": "stream",
     "text": [
      "0 1 2 3 4 5 \n",
      "0 1 2 3 4 6 7 8 9 10 \n",
      "- 0 - 1 - 2 3 4 5 \n",
      "3 4 5 "
     ]
    }
   ],
   "source": [
    "for i in range(11):\n",
    "    if i > 5:\n",
    "        break\n",
    "    print(i, end=' ')\n",
    "\n",
    "print()\n",
    "\n",
    "for i in range(11):\n",
    "    if i == 5:\n",
    "        continue\n",
    "    print(i, end=' ')\n",
    "    \n",
    "print()\n",
    "\n",
    "for i in range(6):\n",
    "    if i < 3:\n",
    "        print('-', i, end=' ')\n",
    "        continue\n",
    "    print(i, end=' ')\n",
    "    \n",
    "print()\n",
    "\n",
    "for i in range(6):\n",
    "    if i < 3:\n",
    "        continue\n",
    "        print('-', i, end=' ')\n",
    "    print(i, end=' ')"
   ]
  },
  {
   "cell_type": "code",
   "execution_count": 43,
   "metadata": {},
   "outputs": [
    {
     "name": "stdout",
     "output_type": "stream",
     "text": [
      "확인하고 싶은 알파벳을 입력해주세요: a\n",
      "a is in a\n",
      "확인하고 싶은 알파벳을 입력해주세요: k\n"
     ]
    }
   ],
   "source": [
    "#문제 만들어보기\n",
    "#a문자열에 확인하고 싶은 알파벳 데이터가 있는지 확인하기\n",
    "a = ('apple')\n",
    "\n",
    "def search_a(v):\n",
    "    n = input('확인하고 싶은 알파벳을 입력해주세요: ')\n",
    "    for i in v: \n",
    "        if n != i:\n",
    "            break\n",
    "        else:\n",
    "            print(n, 'is in a')\n",
    "\n",
    "search_a(a) #확인하고 싶은 알파벳을 입력해주세요: a, a is in a\n",
    "search_a(a) #확인하고 싶은 알파벳을 입력해주세요: k\n",
    "#빈 리스트를 만들어서 추가해주는 함수를 사용해야 원하는 리스트를 뽑아 볼 수 있다."
   ]
  },
  {
   "cell_type": "markdown",
   "metadata": {},
   "source": [
    "피라미드 만들기"
   ]
  },
  {
   "cell_type": "code",
   "execution_count": 32,
   "metadata": {},
   "outputs": [
    {
     "name": "stdout",
     "output_type": "stream",
     "text": [
      "1\n",
      "22\n",
      "333\n",
      "4444\n",
      "55555\n",
      "666666\n"
     ]
    }
   ],
   "source": [
    "def pyramid(v):\n",
    "    #print(v, type(v))\n",
    "    for data in range(1, v+1): #내부적으로 반복해서 쓰는 변수명의 중복되면 안된다!!\n",
    "        #print(data)\n",
    "        for j in range(data): #유효범위값이 필요하다. data =1 이면 0, 2dlaus 0~1 \n",
    "            print(data, end='') \n",
    "        print() #outer loop의 로직2\n",
    "                                #blank new line \n",
    "                                #outer loop 에 포함된 로직\n",
    "    \n",
    "pyramid(6)"
   ]
  },
  {
   "cell_type": "markdown",
   "metadata": {},
   "source": [
    "전화번호에서 '-' 지우기"
   ]
  },
  {
   "cell_type": "code",
   "execution_count": 44,
   "metadata": {},
   "outputs": [
    {
     "name": "stdout",
     "output_type": "stream",
     "text": [
      "01000001234\n"
     ]
    }
   ],
   "source": [
    "raw = '010-0000-1234'\n",
    "\n",
    "final_d = ''\n",
    "\n",
    "for i in raw:\n",
    "    if i != '-':\n",
    "        final_d += i\n",
    "print(final_d)"
   ]
  },
  {
   "cell_type": "markdown",
   "metadata": {},
   "source": [
    "> .isalphas() <br>\n",
    "> .isdigits() <br>\n",
    "> .isspace() <br>"
   ]
  },
  {
   "cell_type": "code",
   "execution_count": 46,
   "metadata": {},
   "outputs": [
    {
     "name": "stdout",
     "output_type": "stream",
     "text": [
      "문자열을 입력하시오: sldkwe9285 (dk39f)\n",
      "알파벳의 개수= 9\n",
      "숫자의 개수= 6\n",
      "스페이스의 개수= 1\n"
     ]
    }
   ],
   "source": [
    "statement = input(\"문자열을 입력하시오: \") #statement에 는 문자열을 넣을 수 있다.\n",
    "\n",
    "alphas = 0 #alphas의 기본값은 0이다\n",
    "digits = 0 #digits 기본값은 0이다\n",
    "spaces = 0 #spaces 기본값은 0이다\n",
    "special = 0 #special 기본값은 0이다\n",
    "for c in statement:  #독립적인 if문 = 실행 측면에서 \n",
    "    if c.isalpha(): #isalpha() 알파벳인지 판별하는 method\n",
    "        alphas = alphas + 1\n",
    "    elif c.isdigit(): #isdigit() 숫자인지 판별하는 method\n",
    "        digits = digits + 1\n",
    "    elif c.isspace(): #isspace() 스페이스인지 판별하는 method\n",
    "        spaces = spaces + 1\n",
    "    else:\n",
    "        special = special + 1\n",
    "print (\"알파벳의 개수=\", alphas)\n",
    "print (\"숫자의 개수=\", digits)\n",
    "print (\"스페이스의 개수=\", spaces)"
   ]
  },
  {
   "cell_type": "code",
   "execution_count": 50,
   "metadata": {},
   "outputs": [
    {
     "ename": "AttributeError",
     "evalue": "'int' object has no attribute 'isalpha'",
     "output_type": "error",
     "traceback": [
      "\u001b[1;31m---------------------------------------------------------------------------\u001b[0m",
      "\u001b[1;31mAttributeError\u001b[0m                            Traceback (most recent call last)",
      "\u001b[1;32m<ipython-input-50-7540b46dd28f>\u001b[0m in \u001b[0;36m<module>\u001b[1;34m\u001b[0m\n\u001b[0;32m      1\u001b[0m \u001b[1;32mfor\u001b[0m \u001b[0mk\u001b[0m \u001b[1;32min\u001b[0m \u001b[1;33m[\u001b[0m\u001b[1;36m1\u001b[0m\u001b[1;33m,\u001b[0m\u001b[1;36m2\u001b[0m\u001b[1;33m,\u001b[0m\u001b[1;34m'w'\u001b[0m\u001b[1;33m]\u001b[0m\u001b[1;33m:\u001b[0m\u001b[1;33m\u001b[0m\u001b[1;33m\u001b[0m\u001b[0m\n\u001b[1;32m----> 2\u001b[1;33m     \u001b[0mprint\u001b[0m\u001b[1;33m(\u001b[0m\u001b[0mk\u001b[0m\u001b[1;33m.\u001b[0m\u001b[0misalpha\u001b[0m\u001b[1;33m(\u001b[0m\u001b[1;33m)\u001b[0m\u001b[1;33m)\u001b[0m\u001b[1;33m\u001b[0m\u001b[1;33m\u001b[0m\u001b[0m\n\u001b[0m",
      "\u001b[1;31mAttributeError\u001b[0m: 'int' object has no attribute 'isalpha'"
     ]
    }
   ],
   "source": [
    "for k in [1,2,'w']:\n",
    "    print(k.isalpha())"
   ]
  },
  {
   "cell_type": "code",
   "execution_count": 69,
   "metadata": {},
   "outputs": [
    {
     "name": "stdout",
     "output_type": "stream",
     "text": [
      "True True True "
     ]
    }
   ],
   "source": [
    "for k in ['A', 'B', 'c']:\n",
    "    print(k.isalpha(), end=' ')\n"
   ]
  },
  {
   "cell_type": "code",
   "execution_count": 68,
   "metadata": {},
   "outputs": [
    {
     "name": "stdout",
     "output_type": "stream",
     "text": [
      "True True True "
     ]
    }
   ],
   "source": [
    "for k in ['1', '2', '3']:\n",
    "    print(k.isdigit(), end=' ')"
   ]
  },
  {
   "cell_type": "code",
   "execution_count": 70,
   "metadata": {},
   "outputs": [
    {
     "ename": "AttributeError",
     "evalue": "'int' object has no attribute 'isdigit'",
     "output_type": "error",
     "traceback": [
      "\u001b[1;31m---------------------------------------------------------------------------\u001b[0m",
      "\u001b[1;31mAttributeError\u001b[0m                            Traceback (most recent call last)",
      "\u001b[1;32m<ipython-input-70-1280df8c87f8>\u001b[0m in \u001b[0;36m<module>\u001b[1;34m\u001b[0m\n\u001b[0;32m      1\u001b[0m \u001b[1;32mfor\u001b[0m \u001b[0mk\u001b[0m \u001b[1;32min\u001b[0m \u001b[1;33m[\u001b[0m\u001b[1;36m1\u001b[0m\u001b[1;33m,\u001b[0m \u001b[1;36m2\u001b[0m\u001b[1;33m,\u001b[0m \u001b[1;36m3\u001b[0m\u001b[1;33m]\u001b[0m\u001b[1;33m:\u001b[0m\u001b[1;33m\u001b[0m\u001b[1;33m\u001b[0m\u001b[0m\n\u001b[1;32m----> 2\u001b[1;33m     \u001b[0mprint\u001b[0m\u001b[1;33m(\u001b[0m\u001b[0mk\u001b[0m\u001b[1;33m.\u001b[0m\u001b[0misdigit\u001b[0m\u001b[1;33m(\u001b[0m\u001b[1;33m)\u001b[0m\u001b[1;33m,\u001b[0m \u001b[0mend\u001b[0m\u001b[1;33m=\u001b[0m\u001b[1;34m' '\u001b[0m\u001b[1;33m)\u001b[0m \u001b[1;31m# 'int' object has no attribute 'isdigit'\u001b[0m\u001b[1;33m\u001b[0m\u001b[1;33m\u001b[0m\u001b[0m\n\u001b[0m",
      "\u001b[1;31mAttributeError\u001b[0m: 'int' object has no attribute 'isdigit'"
     ]
    }
   ],
   "source": [
    "for k in [1, 2, 3]:\n",
    "    print(k.isdigit(), end=' ') # 'int' object has no attribute 'isdigit'"
   ]
  },
  {
   "cell_type": "markdown",
   "metadata": {},
   "source": [
    "Data Type\n",
    "- Numeric <br>\n",
    "> Interger<br> - int(숫자 / 계산식 / '문자열): 정수로 변환 <br>\n",
    "> Complex number <br>\n",
    "> Float<br> - float(숫자 / 계산식 / '문자열): 실수로 변환 <br>\n",
    "- Dictionary <br>\n",
    "- Boolean <br>\n",
    "- Set <br>\n",
    "- Sequence Type <br>\n",
    "  - python 내장타입\n",
    "  - len(seq) : 크기 함수\n",
    "  - slicing : seq[:] \n",
    "  - 문자열, 튜플, 리스트, 바이트 배열, 바이트\n",
    "> String<br> - str(): 문자열로 변환 <br>\n",
    "> List <br> - 공백리스트 생성 : list1 = [], list2 = list()<br> - 수정/삭제 가능<br> - 혼합자료형(int, str, float 혼합 가능)<br>\n",
    "> Tuple<br> - tuple = ( , ), [tuple2 = 't1','t2'] 쉽표로 구분된 수정 삭제 불가능한 리스트[괄호 없이나열된 객체들도 투플로 ],  괄호 연산 사용가능 <br>"
   ]
  },
  {
   "cell_type": "code",
   "execution_count": 78,
   "metadata": {},
   "outputs": [
    {
     "name": "stdout",
     "output_type": "stream",
     "text": [
      "느려도 꾸준히\n",
      "\n",
      "꾸\n",
      "느려\n",
      "느려도 꾸\n",
      "도 꾸준히\n",
      "\n",
      "느려도 꾸준히느려도 꾸준히\n"
     ]
    }
   ],
   "source": [
    "str1 = '느려도 꾸준히'\n",
    "print(str1)\n",
    "print()\n",
    "print(str1[4])\n",
    "print(str1[0:2])\n",
    "print(str1[:5])\n",
    "print(str1[2:])\n",
    "print()\n",
    "print(str1*2)"
   ]
  },
  {
   "cell_type": "code",
   "execution_count": 85,
   "metadata": {},
   "outputs": [
    {
     "name": "stdout",
     "output_type": "stream",
     "text": [
      "<class 'list'>\n",
      "[12, 'may', 'spring', 4, 'summer', 7]\n",
      "may\n",
      "['spring', 4, 'summer', 7]\n",
      "['may', 'spring']\n",
      "[4, 'summer', 7, 12, 'may']\n"
     ]
    }
   ],
   "source": [
    "lst1 = [12, 'may', 'spring', 4, 'summer', 7]\n",
    "print(type(lst1))\n",
    "print(lst1)\n",
    "print(lst1[1])\n",
    "print(lst1[2:])\n",
    "print(lst1[1:3])\n",
    "print(lst1[3:] + lst1[:2])"
   ]
  },
  {
   "cell_type": "code",
   "execution_count": 87,
   "metadata": {},
   "outputs": [
    {
     "name": "stdout",
     "output_type": "stream",
     "text": [
      "['s', 'p', 'r', 'i', 'n', 't', ' ', 't', 'o', ' ', 's', 'u', 'm', 'm', 'e', 'r']\n",
      "t\n"
     ]
    }
   ],
   "source": [
    "lst2 = list('sprint to summer')\n",
    "print(lst2)\n",
    "print(lst2[7])"
   ]
  },
  {
   "cell_type": "code",
   "execution_count": 88,
   "metadata": {},
   "outputs": [
    {
     "name": "stdout",
     "output_type": "stream",
     "text": [
      "(2, 4, 'fall', 3.14)\n",
      "<class 'tuple'>\n"
     ]
    }
   ],
   "source": [
    "tup1 = (2, 4, 'fall', 3.14)\n",
    "print(tup1)\n",
    "print(type(tup1))"
   ]
  },
  {
   "cell_type": "code",
   "execution_count": 89,
   "metadata": {},
   "outputs": [
    {
     "ename": "TypeError",
     "evalue": "'tuple' object does not support item assignment",
     "output_type": "error",
     "traceback": [
      "\u001b[1;31m---------------------------------------------------------------------------\u001b[0m",
      "\u001b[1;31mTypeError\u001b[0m                                 Traceback (most recent call last)",
      "\u001b[1;32m<ipython-input-89-8e7d27de92c6>\u001b[0m in \u001b[0;36m<module>\u001b[1;34m\u001b[0m\n\u001b[1;32m----> 1\u001b[1;33m \u001b[0mtup1\u001b[0m\u001b[1;33m[\u001b[0m\u001b[1;36m0\u001b[0m\u001b[1;33m]\u001b[0m \u001b[1;33m=\u001b[0m \u001b[1;33m(\u001b[0m\u001b[1;36m5\u001b[0m\u001b[1;33m)\u001b[0m\u001b[1;33m\u001b[0m\u001b[1;33m\u001b[0m\u001b[0m\n\u001b[0m",
      "\u001b[1;31mTypeError\u001b[0m: 'tuple' object does not support item assignment"
     ]
    }
   ],
   "source": [
    "tup1[0] = (5) \n",
    "#튜플은 수정/삭제 불가!"
   ]
  },
  {
   "cell_type": "code",
   "execution_count": null,
   "metadata": {},
   "outputs": [],
   "source": []
  }
 ],
 "metadata": {
  "kernelspec": {
   "display_name": "Python 3",
   "language": "python",
   "name": "python3"
  },
  "language_info": {
   "codemirror_mode": {
    "name": "ipython",
    "version": 3
   },
   "file_extension": ".py",
   "mimetype": "text/x-python",
   "name": "python",
   "nbconvert_exporter": "python",
   "pygments_lexer": "ipython3",
   "version": "3.8.5"
  }
 },
 "nbformat": 4,
 "nbformat_minor": 4
}
