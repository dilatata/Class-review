{
 "cells": [
  {
   "cell_type": "markdown",
   "metadata": {},
   "source": [
    "## Class\n",
    "- 멤버 변수 <br>\n",
    "> 클래스 변수 : 객체를 통틀어서 하나만 생성, 모든 객체가 공유하는 변수 , 클래스.변수[=값] <br>\n",
    "> 인스턴스 변수 : 생성되는 객체, 인스턴스마다 별도로 생성되는 변수 <br>\n",
    "<br>\n",
    "> 주요 키워드 : self가 적용된 변수는 모두 다 instance 변수 <br>\n",
    "> 접근자 : 정보 은닉 및 유효성 검증을 위해 private으로 정의하는 방법 -> 변수명 앞단에 __선언 <br>\n",
    "<br> \n",
    "- 특수 메소드 \n",
    "> static 변수 - static 키워드로 선언 : 객체 생성없이 사용 가능  <br>\n",
    "> instance 변수 - non-static 으로 선언 : 객체 생성 필수(instance) <br>\n",
    "> python에선 public(무) 또는 private (__)로 표기 <br>\n",
    "<br> \n",
    "- 용어\n",
    "> 메소드 : 클래스 내부에 구현되는 기능\n",
    "> 함수 : 클래스와 독립적으로 구현되는 기능\n",
    "- calss 클래스명: 클래스변수 = '...' def __init__(sefl, 인스턴스변수1, 인스턴스변수2, ... ): self.인스턴스변수1 = 인스턴스변수1"
   ]
  },
  {
   "cell_type": "code",
   "execution_count": 3,
   "metadata": {},
   "outputs": [],
   "source": [
    "class Dog:\n",
    "    dog_info = '반려견'\n",
    "    \n",
    "    def __init__(self, name, age, sp):\n",
    "        self.name = name\n",
    "        self.age = age\n",
    "        self.sp = sp\n",
    "    \n",
    "    def getName(self): # self 없으면 error!!\n",
    "        return self.name\n",
    "    \n",
    "    def setName(self, name): #멤버 변수값 변경\n",
    "        self.name = name\n",
    "    \n",
    "d1 = Dog(\"그루\", 11, 'mixed')\n",
    "d2 = Dog('뭉구', 17, 'pomeranian')"
   ]
  },
  {
   "cell_type": "code",
   "execution_count": 7,
   "metadata": {},
   "outputs": [
    {
     "name": "stdout",
     "output_type": "stream",
     "text": [
      "반려견 의 이름은  그루\n",
      "반려견의 이름은 그루\n",
      "반려견의 이름은 뭉구\n"
     ]
    }
   ],
   "source": [
    "print(d1.dog_info, '의 이름은 ', d1.name)\n",
    "print(d1.dog_info + '의 이름은 '+ d1.name)\n",
    "print(d2.dog_info + '의 이름은 '+ d2.name)"
   ]
  },
  {
   "cell_type": "markdown",
   "metadata": {},
   "source": [
    "## 인스턴스 및 클래스 변수\n",
    "- 독립된 함수 : class와 무관하게 개발된 기능\n",
    "<br>\n",
    "- 클래스 내부에 구현하는 내장 함수"
   ]
  },
  {
   "cell_type": "code",
   "execution_count": 10,
   "metadata": {},
   "outputs": [],
   "source": [
    "class UserClass:\n",
    "    \n",
    "    # 생성자\n",
    "    def __init__(self, data):\n",
    "        #instance 변수 선언\n",
    "        self.instanceVar = data     \n",
    "        print(\"생성자\")\n",
    "    \n",
    "    # class 내에 포함되어 있으므로 메소드\n",
    "    def getInstanceVar(self):\n",
    "        return self.instanceVar\n",
    "        \n",
    "        \n",
    "def getInstanceVar2():\n",
    "    return \"클래스 외부에 구현된 별도의 함수\"    "
   ]
  },
  {
   "cell_type": "code",
   "execution_count": 11,
   "metadata": {},
   "outputs": [
    {
     "name": "stdout",
     "output_type": "stream",
     "text": [
      "생성자\n"
     ]
    },
    {
     "data": {
      "text/plain": [
       "'생성자로 유입되는 데이터들'"
      ]
     },
     "execution_count": 11,
     "metadata": {},
     "output_type": "execute_result"
    }
   ],
   "source": [
    "d = UserClass('생성자로 유입되는 데이터들')\n",
    "data1 = d.getInstanceVar()\n",
    "data1"
   ]
  },
  {
   "cell_type": "code",
   "execution_count": 12,
   "metadata": {},
   "outputs": [
    {
     "data": {
      "text/plain": [
       "'클래스 외부에 구현된 별도의 함수'"
      ]
     },
     "execution_count": 12,
     "metadata": {},
     "output_type": "execute_result"
    }
   ],
   "source": [
    "data2 = getInstanceVar2()\n",
    "data2"
   ]
  },
  {
   "cell_type": "code",
   "execution_count": 1,
   "metadata": {},
   "outputs": [],
   "source": [
    "class Dog:\n",
    "    dog_info = '반려견'\n",
    "    \n",
    "    def __init__(self, name, age, sp):\n",
    "        self.name = name\n",
    "        self.age = age\n",
    "        self.sp = sp\n",
    "    \n",
    "    def getName(self): # self 없으면 error!!\n",
    "        return self.name\n",
    "    \n",
    "    def setName(self, name): #멤버 변수값 변경\n",
    "        self.name = name\n",
    "        \n",
    "    def getAge(self,age):\n",
    "        return self.age\n",
    "    \n",
    "    def setAge(self, age):\n",
    "        self.age = age\n",
    "    \n",
    "    def getsp(self,sp):\n",
    "        return self.sp\n",
    "    \n",
    "    def setsp(self, sp):\n",
    "        self.sp = sp"
   ]
  },
  {
   "cell_type": "code",
   "execution_count": 3,
   "metadata": {},
   "outputs": [],
   "source": [
    "d1 = Dog(\"그루\", 11, 'mixed')\n",
    "d2 = Dog('뭉구', 17, 'pomeranian')"
   ]
  },
  {
   "cell_type": "code",
   "execution_count": 4,
   "metadata": {},
   "outputs": [
    {
     "name": "stdout",
     "output_type": "stream",
     "text": [
      "-12\n"
     ]
    }
   ],
   "source": [
    "d1.setAge(-12) #잘못된 데이터 호출 -> __변수 : private 변수 표현법 사용으로 막을 수 있어\n",
    "print(d1.age) "
   ]
  },
  {
   "cell_type": "markdown",
   "metadata": {},
   "source": [
    "## private 변수\n",
    "- 외부에서 호출 불가인 변수로 선언한느 방식\n",
    "- 유효성 로직 실행이 필수인 경우\n",
    "- __ 로 선언 : 직접호출을 비추하는 구조\n",
    "- 권장사항 \n",
    "> 변수가 private인 경우 set/getxxx 메소드 추가 구현 권장 <br>\n",
    "> 단, setxxx()는 유효성 검증 코드 포함 <br>"
   ]
  },
  {
   "cell_type": "code",
   "execution_count": 15,
   "metadata": {},
   "outputs": [],
   "source": [
    "class Dog:\n",
    "    dog_info = '반려견'\n",
    "    \n",
    "    def __init__(self, name, age, sp):\n",
    "        self.name = name\n",
    "        self.age = age\n",
    "        self.sp = sp\n",
    "    \n",
    "    def getName(self): # self 없으면 error!!\n",
    "        return self.name\n",
    "    \n",
    "    def setName(self, name): #멤버 변수값 변경\n",
    "        self.name = name\n",
    "        \n",
    "    def getAge(self,new_age):\n",
    "        return self.__age\n",
    "    \n",
    "    def setAge(self, new_age):\n",
    "        if new_age > 0:\n",
    "            self.__age = new_age\n",
    "    \n",
    "    def getsp(self,sp):\n",
    "        return self.sp\n",
    "    \n",
    "    def setsp(self, sp):\n",
    "        self.sp = sp\n",
    "        \n",
    "d1 = Dog(\"그루\", 11, 'mixed')\n",
    "d2 = Dog('뭉구', 17, 'pomeranian')"
   ]
  },
  {
   "cell_type": "code",
   "execution_count": 16,
   "metadata": {},
   "outputs": [
    {
     "name": "stdout",
     "output_type": "stream",
     "text": [
      "11\n",
      "11\n",
      "11\n"
     ]
    }
   ],
   "source": [
    "print(d1.age)\n",
    "d1.setAge(-12)\n",
    "print(d1.age)\n",
    "d1.setAge(12)\n",
    "print(d1.age)"
   ]
  },
  {
   "cell_type": "code",
   "execution_count": 18,
   "metadata": {},
   "outputs": [],
   "source": [
    "class Dog2:\n",
    "    dog_info = '반려견'\n",
    "    \n",
    "    def __init__(self, name, age, sp):\n",
    "        self.name = name\n",
    "        self.age = age\n",
    "        self.sp = sp\n",
    "    \n",
    "    def getName(self): # self 없으면 error!!\n",
    "        return self.name\n",
    "    \n",
    "    def setName(self, name): #멤버 변수값 변경\n",
    "        self.name = name\n",
    "        \n",
    "    def getAge(self,new_age):\n",
    "        return self.age\n",
    "    \n",
    "    def setAge(self, new_age):\n",
    "        if new_age > 0:\n",
    "            self.age = new_age\n",
    "    \n",
    "    def getsp(self,sp):\n",
    "        return self.sp\n",
    "    \n",
    "    def setsp(self, sp):\n",
    "        self.sp = sp\n",
    "        \n",
    "d1 = Dog2(\"그루\", 11, 'mixed')\n",
    "d2 = Dog2('뭉구', 17, 'pomeranian')"
   ]
  },
  {
   "cell_type": "code",
   "execution_count": 20,
   "metadata": {},
   "outputs": [
    {
     "name": "stdout",
     "output_type": "stream",
     "text": [
      "12\n",
      "12\n",
      "12\n"
     ]
    }
   ],
   "source": [
    "print(d1.age)\n",
    "d1.setAge(-12)\n",
    "print(d1.age)\n",
    "d1.setAge(12)\n",
    "print(d1.age) \n",
    "#변수 age에 private 변수 표현법을 사용하지 않았더니 조건을 만족하는 값을 대입아였을때 수정이 가능"
   ]
  },
  {
   "cell_type": "code",
   "execution_count": 21,
   "metadata": {},
   "outputs": [
    {
     "name": "stdout",
     "output_type": "stream",
     "text": [
      "이이\n"
     ]
    },
    {
     "ename": "AttributeError",
     "evalue": "'People2' object has no attribute 'age'",
     "output_type": "error",
     "traceback": [
      "\u001b[1;31m---------------------------------------------------------------------------\u001b[0m",
      "\u001b[1;31mAttributeError\u001b[0m                            Traceback (most recent call last)",
      "\u001b[1;32m<ipython-input-21-a4f2996b36a5>\u001b[0m in \u001b[0;36m<module>\u001b[1;34m\u001b[0m\n\u001b[0;32m      5\u001b[0m \u001b[0mp6\u001b[0m \u001b[1;33m=\u001b[0m \u001b[0mPeople2\u001b[0m\u001b[1;33m(\u001b[0m\u001b[1;33m)\u001b[0m\u001b[1;33m\u001b[0m\u001b[1;33m\u001b[0m\u001b[0m\n\u001b[0;32m      6\u001b[0m \u001b[0mprint\u001b[0m\u001b[1;33m(\u001b[0m\u001b[0mp6\u001b[0m\u001b[1;33m.\u001b[0m\u001b[0mname\u001b[0m\u001b[1;33m)\u001b[0m\u001b[1;33m\u001b[0m\u001b[1;33m\u001b[0m\u001b[0m\n\u001b[1;32m----> 7\u001b[1;33m \u001b[0mprint\u001b[0m\u001b[1;33m(\u001b[0m\u001b[0mp6\u001b[0m\u001b[1;33m.\u001b[0m\u001b[0mage\u001b[0m\u001b[1;33m)\u001b[0m\u001b[1;33m\u001b[0m\u001b[1;33m\u001b[0m\u001b[0m\n\u001b[0m",
      "\u001b[1;31mAttributeError\u001b[0m: 'People2' object has no attribute 'age'"
     ]
    }
   ],
   "source": [
    "class People2:\n",
    "    def __init__(self, name=\"이이\", age=0):\n",
    "        self.name = name\n",
    "        self.__age = age #age에게 값을 대입하지 말라는 사인, 외부에서 절대 값을 수정을 위해 호출하지 말라는 사인\n",
    "p6 = People2()\n",
    "print(p6.name)\n",
    "print(p6.age)"
   ]
  },
  {
   "cell_type": "code",
   "execution_count": 23,
   "metadata": {},
   "outputs": [
    {
     "name": "stdout",
     "output_type": "stream",
     "text": [
      "10\n"
     ]
    }
   ],
   "source": [
    "p6.age = 10 \n",
    "# 명시적으로 값을 수정하는 문법 -> private기질 잃음\n",
    "# => setAge() : --age 변수값 수정 및 화룡ㅇ 가능한 메소드 구현 사용 권장\n",
    "print(p6.age)"
   ]
  },
  {
   "cell_type": "markdown",
   "metadata": {},
   "source": [
    "- __int__() : 생성자\n",
    "> 생성자(constructor)는 객체가 생성될 때 객체를 기본값으로 초기화 <br>\n",
    "> 파이썬에서는 생성자의 이름으로 init() 사용 <br> \n",
    "> 객체 생성시 호출(class 이름으로 호출) <br>\n",
    "- __del__() : 소멸자\n",
    "> 객체가 삭제시 자동 호출되는 함수 <br>\n",
    "> del 참조변수명 시에 자동 호출 <br>\n",
    "- \\__str__ : 자바의 toString과 흡사 print() 자동 호출\n",
    "- \\__len__ : 길이 반환로직으로 재정의 권장"
   ]
  },
  {
   "cell_type": "code",
   "execution_count": 25,
   "metadata": {},
   "outputs": [],
   "source": [
    "class ResourceTest:\n",
    "    def __init__(self):\n",
    "        self.data_name = '필요한 자원 초기화 로직'\n",
    "        print('__init__')\n",
    "        \n",
    "    def __del__(self):\n",
    "        print('사용했던 다양한 자원들 해제하는 코드로 주로 개발')"
   ]
  },
  {
   "cell_type": "code",
   "execution_count": 26,
   "metadata": {},
   "outputs": [
    {
     "name": "stdout",
     "output_type": "stream",
     "text": [
      "__init__\n"
     ]
    }
   ],
   "source": [
    "#사용 가능하게 메모리 생성\n",
    "res = ResourceTest() #객체 생성 시점엔 __init__()자동 호출"
   ]
  },
  {
   "cell_type": "code",
   "execution_count": 27,
   "metadata": {},
   "outputs": [
    {
     "name": "stdout",
     "output_type": "stream",
     "text": [
      "사용했던 다양한 자원들 해제하는 코드로 주로 개발\n"
     ]
    }
   ],
   "source": [
    "#메모리에서 객체 삭제\n",
    "del res # __del__() 자동 호출"
   ]
  },
  {
   "cell_type": "code",
   "execution_count": 28,
   "metadata": {},
   "outputs": [
    {
     "name": "stdout",
     "output_type": "stream",
     "text": [
      "제목 Data Structure, 저자 bookMan, 페이지 200\n",
      "200\n"
     ]
    }
   ],
   "source": [
    "class Book:\n",
    "    \n",
    "    # 생성자 book(값1) 호출시 자동 호출\n",
    "    def __init__(self, title, author, pages):\n",
    "        self.title = title\n",
    "        self.author = author\n",
    "        self.pages = pages\n",
    "        \n",
    "    #참조 변서값을 출력시 자동 호출되는 특별한 메소드\n",
    "    def __str__(self):\n",
    "#        return '제목: %s, 저자: %s, 페이지: %d' % (self.title, self.author, self.pages)\n",
    "        return '제목 {}, 저자 {}, 페이지 {}'.format(self.title, self.author, self.pages)\n",
    "    def __len__(self):\n",
    "        return self.pages\n",
    "\n",
    "#book 변수는 vook 객체를 관리하는 참조 변수\n",
    "#book 객체 하나에는 3개의 정보 보유\n",
    "\n",
    "book = Book(\"Data Structure\", \"bookMan\", 200) \n",
    "print(book) # 제목:Data Structure , 저자:bookMan, 페이지:200 \n",
    "print(len(book))"
   ]
  },
  {
   "cell_type": "markdown",
   "metadata": {},
   "source": [
    "## 메소드 재정의 overriding/ override\n",
    "- 이미 존재하는 메소드의 로직 수정 방식\n",
    "> 사칙연산 식을 사용자 정의 로직의 코드로 재수정 가능\n",
    "객체의 연산시에 사용되는 사칙 연산 관련 특수 메소드 재정의 하기\n",
    "제공받은 특수 메소드들 재정의 or 사용자가 직접 구현한 사용자 정의 클래스 메소드를 재정의 할 수 있음"
   ]
  },
  {
   "cell_type": "code",
   "execution_count": 29,
   "metadata": {},
   "outputs": [],
   "source": [
    "class SpecialMethod2:\n",
    "    def __init__(self, x, y): # x, y -> instance 변수 생성\n",
    "        self.x = x\n",
    "        self.y = y\n",
    "    \n",
    "    def __add__(self, you): # + 연산자 사용시 호출\n",
    "        print(\"__add__ 호출 확인\")\n",
    "        return SpecialMethod2(self.x + you.x, self.y + you.y)\n",
    "    \n",
    "    def __eq__(self, you): # == 연산자 사용시 호출\n",
    "        print('__eq__ 호출 확인')\n",
    "        return self.x == you.x and self.y == you.y\n",
    "    \n",
    "    def __str__(self): #print() 연산자 사용시 호출\n",
    "        print(\"__str__ 호출 확인\")\n",
    "        return '(%d, %d)' % (self.x, self.y)"
   ]
  },
  {
   "cell_type": "markdown",
   "metadata": {},
   "source": [
    "## OOP \n",
    "- 상속\n",
    "> 이미 존재하는 클래스를 상속받아 새로운 자식 클래스 생성 <br>\n",
    "> class cl1: <class-suite> <br>\n",
    "> class cl2(cl1): <class-suite> # cl1 이 부모함수 cl2가 자식함수 <br>\n",
    "> class cl3(cl2): <class-suite> # cl2 이 부모함수 cl3가 자식함수 <br>\n",
    "- 다형성\n",
    "> 상속 관계에서 동일한 부모 클래스를 상속받아서 작성된 자식 클래스들을 동일하게 처리 <br>\n",
    "- https://www.w3schools.com/python/python_inheritance.asp"
   ]
  },
  {
   "cell_type": "code",
   "execution_count": 26,
   "metadata": {},
   "outputs": [],
   "source": [
    "class Person:\n",
    "    def __init__(self, fname, lname):\n",
    "        self.firstname = fname\n",
    "        self.lastname = lname\n",
    "\n",
    "    def printname(self):\n",
    "        print(self.firstname, self.lastname)\n",
    "\n",
    "class Student(Person):\n",
    "    def __init__(self, fname, lname, year):        \n",
    "        Person.__init__(self, fname, lname) \n",
    "        #super().__init__(fname, lname)\n",
    "        self.graduationyear = year\n",
    "    def welcome(self):\n",
    "        print(\"Welcome\", self.firstname, self.lastname, \"to the class of\", self.graduationyear)\n",
    "    "
   ]
  },
  {
   "cell_type": "code",
   "execution_count": 6,
   "metadata": {},
   "outputs": [
    {
     "name": "stdout",
     "output_type": "stream",
     "text": [
      "John Doe\n",
      "Mike Olsen\n"
     ]
    }
   ],
   "source": [
    "x = Person(\"John\", \"Doe\")\n",
    "x.printname() \n",
    "x2 = Student(\"Mike\", \"Olsen\", 2019)\n",
    "x2.printname()"
   ]
  },
  {
   "cell_type": "code",
   "execution_count": 29,
   "metadata": {},
   "outputs": [],
   "source": [
    "class school:\n",
    "    def __init__(self, school_name=' '):\n",
    "        self.school_name=school_name\n",
    "        print('school 생성자')\n",
    "    def study(self):\n",
    "        print('학교에 등교한다')\n",
    "        \n",
    "class student(school):\n",
    "    def __init__(self, school_name, stu_name):\n",
    "        super().__init__(school_name)\n",
    "        self.stu_name = stu_name\n",
    "    def say_hi(self):\n",
    "        print('안녕')"
   ]
  },
  {
   "cell_type": "code",
   "execution_count": 36,
   "metadata": {},
   "outputs": [
    {
     "name": "stdout",
     "output_type": "stream",
     "text": [
      "school 생성자\n",
      "school 생성자\n",
      "안녕\n"
     ]
    }
   ],
   "source": [
    "a1 = school() #school_name=' ' school(blank) 사용 가능\n",
    "a2 = student(' ', '지은')\n",
    "a2.say_hi()"
   ]
  },
  {
   "cell_type": "markdown",
   "metadata": {},
   "source": [
    "## Module\n",
    "- https://www.w3schools.com/python/python_modules.asp <br>\n",
    "- 함수나 변수들을 모아놓은 library들 의미\n",
    "> 내가 생성한 코드가 아닌 누군가가 제공하는 외부 library들 사용하는 방법 <br>\n",
    "> 외부에 내 코드를 공유하는 방법 <br>\n",
    "\n",
    "- 사용방법\n",
    "> 1. 모듈의 파일 확장자 : .py <br>\n",
    "> 2. 모듈 사용 문법 <br>\n",
    "> 2-1) import file <br>\n",
    "> 2-2) import file as 별칭 <br>\n",
    "> 2-3) from file명 import 함수명 <br>\n",
    "- jupyter notebook 상에서 python 파일 생성하는 명령어\n",
    "> %% writedfile (파일명.py) <br>\n",
    "- jupyter notebook에서 명령 prompt에 \n",
    "> !dir"
   ]
  },
  {
   "cell_type": "code",
   "execution_count": 38,
   "metadata": {},
   "outputs": [
    {
     "name": "stdout",
     "output_type": "stream",
     "text": [
      "Writing fibo.py\n"
     ]
    }
   ],
   "source": [
    "%%writefile fibo.py\n",
    "\n",
    "def fib(n):\n",
    "    a, b = 0, 1\n",
    "    \n",
    "    while b<n:      #조건이 true인 경우에만 실행되는 반복문\n",
    "        print(b, end=' ')\n",
    "        a, b = b, a+b"
   ]
  },
  {
   "cell_type": "code",
   "execution_count": 39,
   "metadata": {},
   "outputs": [
    {
     "name": "stdout",
     "output_type": "stream",
     "text": [
      "1 1 2 3 "
     ]
    },
    {
     "data": {
      "text/plain": [
       "'fib'"
      ]
     },
     "execution_count": 39,
     "metadata": {},
     "output_type": "execute_result"
    }
   ],
   "source": [
    "import fibo\n",
    "\n",
    "fibo.fib(5)\n",
    "fibo.fib.__name__"
   ]
  },
  {
   "cell_type": "code",
   "execution_count": 41,
   "metadata": {},
   "outputs": [
    {
     "name": "stdout",
     "output_type": "stream",
     "text": [
      "1 1 2 3 "
     ]
    }
   ],
   "source": [
    "import fibo as f \n",
    "f.fib(5)"
   ]
  },
  {
   "cell_type": "code",
   "execution_count": 42,
   "metadata": {},
   "outputs": [
    {
     "name": "stdout",
     "output_type": "stream",
     "text": [
      "Writing find_area.py\n"
     ]
    }
   ],
   "source": [
    "%%writefile find_area.py\n",
    "\n",
    "pi = 3.14\n",
    "def circle(r):\n",
    "    return r*r*pi\n",
    "\n",
    "def squre(x):\n",
    "    return x*x\n",
    "\n",
    "def triangle(x, h):\n",
    "    return x*h/2"
   ]
  },
  {
   "cell_type": "code",
   "execution_count": 45,
   "metadata": {},
   "outputs": [
    {
     "name": "stdout",
     "output_type": "stream",
     "text": [
      "28.26\n",
      "9\n",
      "4.5\n"
     ]
    }
   ],
   "source": [
    "import find_area\n",
    "print(find_area.circle(3))\n",
    "print(find_area.squre(3))\n",
    "print(find_area.triangle(3, 3))"
   ]
  },
  {
   "cell_type": "markdown",
   "metadata": {},
   "source": [
    "## File I/O\n",
    "- 논리적인 파일 구조(데이터 입출력, I/O)\n",
    "> 데이터 입출력 기본 : 오픈 -> 반환 -> 자원 반환\n",
    "- 파일 안에는 바이트들이 순차적으로 저장되어 있고 맨 끝에는 <font color='red'>EOF(end-of-file)</font> 마커가 있음\n",
    "\n",
    "- 모든 파일은 입출력 동작이 발생하는 위치를 나타내는 위치 표시자(position indicator)를 가지고 있음\n",
    "\n",
    "- 텍스트 파일 읽고 쓰기(모드)<br>\n",
    ">  open(\"file 이름\", 사용 모드, 인코딩) - 읽고 쓰기 둘 다 가능 <br>\n",
    ">       1. r : 읽기 모드(파일의 처음부터 read) \n",
    ">       2. w : 쓰기 모드(파일의 처음부터 쓰기, 파일이 없으면 생성, 존재하면 기존 내용은 지우고 새로 작성) \n",
    ">       3. a : 추가 모드(파일의 끝에 씀, 파일이 없으면 생성) \n",
    ">       4. r+ : 읽기 쓰기 모드(파일에 읽고 쓸수 있는 모드)\n",
    "    \n",
    "- output.txt 파일 생성 및 데이터 출력\n",
    "> 줄단위로 파일에 쓰기 : writelines() / join()\n",
    "\n",
    "- 한글 데이터 고려 - utf-8\n",
    "\n",
    "- 파일 생성 -> 데이터 출력 \n"
   ]
  },
  {
   "cell_type": "markdown",
   "metadata": {},
   "source": [
    "- output.txt 라는 파일에 utf-8 형식으로 생성 및 데이터 출력 기능의 객체 생성\n",
    "- 시스템에서 데이터 입출력시에는 io기능을 담당하는 시스템 자체의 기능 사용\n",
    "1. 파일읽기 <br>\n",
    " open() : 시스템 자원 빌려 사용하겠다는 설정 <br>\n",
    " 파일함수 = open('파일명', 사용 모드', encording='utf-8')\n",
    "2. 데이터 출력 <br>\n",
    " 파일함수.write('출력내용')\n",
    " \n",
    "3. 자원 반납 (필수, 생략시 시스템 메모리 이슈 발생 가능성 있음) <br>\n",
    " 파일함수.close()"
   ]
  },
  {
   "cell_type": "markdown",
   "metadata": {},
   "source": [
    "- with open ('파일명', '사용 모드', encording='utf-8') : 파일 읽기와 자동 자원반납을 지원 "
   ]
  },
  {
   "cell_type": "markdown",
   "metadata": {},
   "source": [
    "- 줄단위로 파일에 쓰기\n",
    "> writelines() <br>\n",
    "> join() <br>\n",
    "- 파일 데이터 읽기\n",
    "> read() : 모든 내용 read <br>\n",
    "> readline() ; 한 line read <br>\n",
    "> readlines() : 모든 내용을 list 형태로 read/new line 까지 read <br>"
   ]
  },
  {
   "cell_type": "code",
   "execution_count": null,
   "metadata": {},
   "outputs": [],
   "source": []
  }
 ],
 "metadata": {
  "kernelspec": {
   "display_name": "Python 3",
   "language": "python",
   "name": "python3"
  },
  "language_info": {
   "codemirror_mode": {
    "name": "ipython",
    "version": 3
   },
   "file_extension": ".py",
   "mimetype": "text/x-python",
   "name": "python",
   "nbconvert_exporter": "python",
   "pygments_lexer": "ipython3",
   "version": "3.8.5"
  }
 },
 "nbformat": 4,
 "nbformat_minor": 4
}
