{
 "cells": [
  {
   "cell_type": "markdown",
   "metadata": {},
   "source": [
    "## Dictionary <br>\n",
    "> key와 value가 쌍으로 관리 <br>\n",
    "> {key1:value1, key2:value2, key:value3 .... } <br>\n",
    "> key값을 주면 value값을 돌려주는 검색 자료형 <br>\n",
    "> 순서 없고 key값 중복 없음 <br>\n",
    "> 주요함수 <br>\n",
    ">  - .get()<br>\n",
    ">  - .itme() <br>\n",
    ">  - .keys() : dicionary 속의 key값을 출력 <br>\n",
    ">  - .values() : dicionary 속의 value값을 출력 <br>\n",
    ">  - .copy() <br>\n",
    ">  - .update <br>\n",
    "> 변수명['key'] <br>\n",
    ">  - 이미 존재하는 dict 에 추가 저장 : dict변수['newKey'] = 새로운데이터 <br>\n",
    ">  - 이미 존재하는 데이터 반환 : get(), ['key'] <br>"
   ]
  },
  {
   "cell_type": "code",
   "execution_count": 12,
   "metadata": {},
   "outputs": [
    {
     "data": {
      "text/plain": [
       "True"
      ]
     },
     "execution_count": 12,
     "metadata": {},
     "output_type": "execute_result"
    }
   ],
   "source": [
    "a = dict(choco = 1, candy = 2, cheese = 3)\n",
    "b = {'choco' : 1, 'candy' : 2, 'cheese' : 3}\n",
    "\n",
    "#zip사용\n",
    "c = dict(zip(['choco', 'candy', 'cheese'], [1, 2, 3]))\n",
    "\n",
    "#tuple 문법을 활용해서 dict 생성\n",
    "d = dict([('cheese', 3), ('choco', 1), ('candy', 2)])\n",
    "e = dict({'candy' : 2, 'choco' : 1, 'cheese' : 3})\n",
    "\n",
    "a == b == c == d == e"
   ]
  },
  {
   "cell_type": "code",
   "execution_count": 13,
   "metadata": {},
   "outputs": [
    {
     "name": "stdout",
     "output_type": "stream",
     "text": [
      "<class 'dict'>\n",
      "<class 'dict'>\n",
      "<class 'dict'>\n"
     ]
    }
   ],
   "source": [
    "print(type(b))\n",
    "print(type(c))\n",
    "print(type(d))"
   ]
  },
  {
   "cell_type": "code",
   "execution_count": 14,
   "metadata": {},
   "outputs": [
    {
     "name": "stdout",
     "output_type": "stream",
     "text": [
      "{'choco': 10, 'candy': 2, 'cheese': 3}\n"
     ]
    }
   ],
   "source": [
    "a['choco'] = 10\n",
    "print(a)"
   ]
  },
  {
   "cell_type": "code",
   "execution_count": 15,
   "metadata": {},
   "outputs": [
    {
     "name": "stdout",
     "output_type": "stream",
     "text": [
      "dict_keys(['choco', 'candy', 'cheese'])\n",
      "\n",
      "dict_values([10, 2, 3])\n"
     ]
    }
   ],
   "source": [
    "print(a.keys())\n",
    "print()\n",
    "print(a.values())"
   ]
  },
  {
   "cell_type": "code",
   "execution_count": 20,
   "metadata": {},
   "outputs": [
    {
     "name": "stdout",
     "output_type": "stream",
     "text": [
      "choco\n",
      "candy\n",
      "cheese\n",
      "\n",
      "choco , 10\n",
      "candy , 2\n",
      "cheese , 3\n"
     ]
    }
   ],
   "source": [
    "#key로 value 뽑아서 출력\n",
    "for i in a.keys():\n",
    "    print(i)\n",
    "\n",
    "print()\n",
    "\n",
    "for k in a.keys():\n",
    "    print(k, ',' ,a[k])"
   ]
  },
  {
   "cell_type": "code",
   "execution_count": 30,
   "metadata": {},
   "outputs": [],
   "source": [
    "#dictionary 안 중첩되는 정보를 넣고 출력해보자\n",
    "\n",
    "desserts = {'sweets' : {'choco' : { 'hush' : 'USA', '가나' : 'KOREA'},\n",
    "            'cracker' : {'참크래커' : 'KOREA'}}\n",
    "           }"
   ]
  },
  {
   "cell_type": "code",
   "execution_count": 32,
   "metadata": {},
   "outputs": [
    {
     "data": {
      "text/plain": [
       "{'sweets': {'choco': {'hush': 'USA', '가나': 'KOREA'},\n",
       "  'cracker': {'참크래커': 'KOREA'}}}"
      ]
     },
     "execution_count": 32,
     "metadata": {},
     "output_type": "execute_result"
    }
   ],
   "source": [
    "desserts"
   ]
  },
  {
   "cell_type": "code",
   "execution_count": 34,
   "metadata": {},
   "outputs": [
    {
     "data": {
      "text/plain": [
       "{'choco': {'hush': 'USA', '가나': 'KOREA'}, 'cracker': {'참크래커': 'KOREA'}}"
      ]
     },
     "execution_count": 34,
     "metadata": {},
     "output_type": "execute_result"
    }
   ],
   "source": [
    "desserts['sweets'] #{'choco': {'hush': 'USA', '가나': 'KOREA'}, 'cracker': {'참크래커': 'KOREA'}}"
   ]
  },
  {
   "cell_type": "code",
   "execution_count": 38,
   "metadata": {},
   "outputs": [
    {
     "data": {
      "text/plain": [
       "{'hush': 'USA', '가나': 'KOREA'}"
      ]
     },
     "execution_count": 38,
     "metadata": {},
     "output_type": "execute_result"
    }
   ],
   "source": [
    "desserts['sweets']['choco' ] #{'hush': 'USA', '가나': 'KOREA'}"
   ]
  },
  {
   "cell_type": "code",
   "execution_count": 39,
   "metadata": {},
   "outputs": [
    {
     "data": {
      "text/plain": [
       "'KOREA'"
      ]
     },
     "execution_count": 39,
     "metadata": {},
     "output_type": "execute_result"
    }
   ],
   "source": [
    "desserts['sweets']['choco']['가나'] #'KOREA'"
   ]
  },
  {
   "cell_type": "markdown",
   "metadata": {},
   "source": [
    "## set <br>\n",
    " -중복되지 않는 순서없는 항목들 <br>\n",
    "- 순서 보장되지 않으며 고유값만 저장 : index로 데이터 관리 불가 <br>\n",
    "- set = { , } / 빈set : set = {} <br>\n",
    ">  - .pop() <br>\n",
    ">  - .add() <br>\n",
    ">  - .update() <br>\n",
    "> https://www.w3schools.com/python/python_sets.asp"
   ]
  },
  {
   "cell_type": "code",
   "execution_count": 78,
   "metadata": {},
   "outputs": [
    {
     "name": "stdout",
     "output_type": "stream",
     "text": [
      "{'apple', 'banana', 'cherry'}\n",
      "3\n"
     ]
    }
   ],
   "source": [
    "set1 = {\"apple\", \"banana\", \"cherry\", \"apple\"}\n",
    "set2 = {1, 5, 7, 9, 3}\n",
    "set3 = {True, False, False}\n",
    "set4 = {\"abc\", 34, True, 40, \"life\"}\n",
    "\n",
    "print(set1)\n",
    "print(len(set1))"
   ]
  },
  {
   "cell_type": "code",
   "execution_count": 79,
   "metadata": {},
   "outputs": [
    {
     "name": "stdout",
     "output_type": "stream",
     "text": [
      "<class 'set'>\n"
     ]
    }
   ],
   "source": [
    "print(type(set4))"
   ]
  },
  {
   "cell_type": "code",
   "execution_count": 80,
   "metadata": {},
   "outputs": [
    {
     "name": "stdout",
     "output_type": "stream",
     "text": [
      "{'apple', 'banana', 'cherry'}\n",
      "<class 'set'>\n"
     ]
    }
   ],
   "source": [
    "set5 = set((\"apple\", \"banana\", \"cherry\")) # note the double round-brackets\n",
    "print(set5)\n",
    "print(type(set5))"
   ]
  },
  {
   "cell_type": "code",
   "execution_count": 81,
   "metadata": {},
   "outputs": [
    {
     "name": "stdout",
     "output_type": "stream",
     "text": [
      "apple banana cherry \n",
      "True\n"
     ]
    }
   ],
   "source": [
    "for x in set1:\n",
    "    print(x, end=' ')\n",
    "\n",
    "print()   \n",
    "print(\"banana\" in set1)"
   ]
  },
  {
   "cell_type": "code",
   "execution_count": 82,
   "metadata": {},
   "outputs": [
    {
     "name": "stdout",
     "output_type": "stream",
     "text": [
      "{'apple', 'banana', 'orange', 'cherry'}\n"
     ]
    }
   ],
   "source": [
    "set1.add(\"orange\")\n",
    "print(set1)"
   ]
  },
  {
   "cell_type": "code",
   "execution_count": 58,
   "metadata": {},
   "outputs": [
    {
     "name": "stdout",
     "output_type": "stream",
     "text": [
      "{1, 3, 5, 7, 9, 'apple', 'cherry', 'banana', 'orange'}\n"
     ]
    }
   ],
   "source": [
    "set1.update(set2) #update() 는 set가 아닌 tuple, listdictionary 도 set에 업데이트 가능하다.\n",
    "print(set1)"
   ]
  },
  {
   "cell_type": "markdown",
   "metadata": {},
   "source": [
    "## 포함관계 <br>\n",
    "> issubset() : 부분 집합 여부 검사<br>\n",
    "> issuperset() : 상위집합 여부 검사 <br>\n",
    "> <br>\n",
    "> union() : 합집합 <br>\n",
    "> intersection() : 교집합, &연산자 사용 가능<br>\n",
    "> difference() : 차집합, -연산자 사용 가능 <br>"
   ]
  },
  {
   "cell_type": "code",
   "execution_count": 66,
   "metadata": {},
   "outputs": [
    {
     "name": "stdout",
     "output_type": "stream",
     "text": [
      "{1, 3, 5, 7, 9}\n",
      "{1, 3, 3.14, 5, 7, 9}\n"
     ]
    }
   ],
   "source": [
    "print(set2)\n",
    "set2.add(3.14) #.add()\n",
    "print(set2)"
   ]
  },
  {
   "cell_type": "code",
   "execution_count": 74,
   "metadata": {},
   "outputs": [
    {
     "name": "stdout",
     "output_type": "stream",
     "text": [
      "{1, 3, 5, 7, 9}\n",
      "1\n",
      "{3, 5, 7, 9}\n",
      "3\n",
      "{5, 7, 9}\n",
      "5\n",
      "{7, 9}\n"
     ]
    }
   ],
   "source": [
    "print(set2)\n",
    "print(set2.pop()) #.pop() : 데이터를 기존 데이터에서 하나 선택해 완전히 뽑아낸다(선택한 데이터는 기존 set에 남아있지 않음) \n",
    "print(set2)\n",
    "print(set2.pop())\n",
    "print(set2)\n",
    "print(set2.pop())\n",
    "print(set2)"
   ]
  },
  {
   "cell_type": "code",
   "execution_count": 83,
   "metadata": {},
   "outputs": [
    {
     "name": "stdout",
     "output_type": "stream",
     "text": [
      "{'apple', 'banana', 'orange', 'cherry'}\n",
      "False\n",
      "True\n"
     ]
    }
   ],
   "source": [
    "print(set1)\n",
    "print('apple' not in set1)\n",
    "print('banana' in set1)"
   ]
  },
  {
   "cell_type": "code",
   "execution_count": 90,
   "metadata": {},
   "outputs": [
    {
     "name": "stdout",
     "output_type": "stream",
     "text": [
      "False\n",
      "{'banana'}\n",
      "{'banana'}\n",
      "{'apple', 'kiwi', 'cherry', 'banana', 'orange', 'watermelon'}\n",
      "{'apple', 'orange', 'cherry'}\n",
      "{'kiwi', 'watermelon'}\n"
     ]
    }
   ],
   "source": [
    "set5 = {'kiwi', 'banana', 'watermelon'}\n",
    "print(set1 == set5)\n",
    "print(set1 & set5)\n",
    "print(set1.intersection(set5))\n",
    "print(set1.union(set5))\n",
    "print(set1.difference(set5))\n",
    "print(set5.difference(set1))"
   ]
  },
  {
   "cell_type": "code",
   "execution_count": 94,
   "metadata": {},
   "outputs": [
    {
     "name": "stdout",
     "output_type": "stream",
     "text": [
      "False\n",
      "False\n"
     ]
    }
   ],
   "source": [
    "set6 = {'apple', 'banana', 'orange', 'cherry', 'melon'}\n",
    "print(set1 > set6)\n",
    "print(set1.issuperset(set6))"
   ]
  },
  {
   "cell_type": "code",
   "execution_count": 95,
   "metadata": {},
   "outputs": [
    {
     "name": "stdout",
     "output_type": "stream",
     "text": [
      "True\n",
      "True\n"
     ]
    }
   ],
   "source": [
    "print(set1 < set6)\n",
    "print(set1.issubset(set6))"
   ]
  },
  {
   "cell_type": "code",
   "execution_count": 118,
   "metadata": {},
   "outputs": [],
   "source": [
    "#데이터 속 단어 개수 출력하기\n",
    "\n",
    "IU_lilac = '''나리는 꽃가루에 눈이 따끔해 (아야)\n",
    "눈물이 고여도 꾹 참을래\n",
    "내 마음 한켠 비밀스런 오르골에 넣어두고서\n",
    "영원히 되감을 순간이니까\n",
    "우리 둘의 마지막 페이지를 잘 부탁해\n",
    "어느 작별이 이보다 완벽할까\n",
    "Love me only till this spring\n",
    "오 라일락 꽃이 지는 날 goodbye\n",
    "이런 결말이 어울려\n",
    "안녕 꽃잎 같은 안녕\n",
    "하이얀 우리 봄날의 climax\n",
    "아 얼마나 기쁜 일이야\n",
    "Ooh ooh\n",
    "Love me only till this spring\n",
    "봄바람처럼\n",
    "Ooh ooh\n",
    "Love me only till this spring\n",
    "봄바람처럼'''"
   ]
  },
  {
   "cell_type": "code",
   "execution_count": 119,
   "metadata": {
    "collapsed": true
   },
   "outputs": [
    {
     "name": "stdout",
     "output_type": "stream",
     "text": [
      "{'나': 2, '리': 3, '는': 2, ' ': 55, '꽃': 3, '가': 1, '루': 1, '에': 2, '눈': 2, '이': 11, '따': 1, '끔': 1, '해': 2, '(': 1, '아': 2, '야': 2, ')': 1, '\\n': 17, '물': 1, '고': 2, '여': 1, '도': 1, '꾹': 1, '참': 1, '을': 2, '래': 1, '내': 1, '마': 3, '음': 1, '한': 1, '켠': 1, '비': 1, '밀': 1, '스': 1, '런': 2, '오': 2, '르': 1, '골': 1, '넣': 1, '어': 3, '두': 1, '서': 1, '영': 1, '원': 1, '히': 1, '되': 1, '감': 1, '순': 1, '간': 1, '니': 1, '까': 2, '우': 2, '둘': 1, '의': 2, '지': 3, '막': 1, '페': 1, '를': 1, '잘': 1, '부': 1, '탁': 1, '느': 1, '작': 1, '별': 1, '보': 1, '다': 1, '완': 1, '벽': 1, '할': 1, 'L': 3, 'o': 14, 'v': 3, 'e': 7, 'm': 4, 'n': 6, 'l': 10, 'y': 4, 't': 6, 'i': 10, 'h': 7, 's': 6, 'p': 3, 'r': 3, 'g': 4, '라': 1, '일': 2, '락': 1, '날': 2, 'd': 1, 'b': 1, '결': 1, '말': 1, '울': 1, '려': 1, '안': 2, '녕': 2, '잎': 1, '같': 1, '은': 1, '하': 1, '얀': 1, '봄': 3, 'c': 1, 'a': 1, 'x': 1, '얼': 1, '기': 1, '쁜': 1, 'O': 2, '바': 2, '람': 2, '처': 2, '럼': 2}\n"
     ]
    }
   ],
   "source": [
    "# 빈 dictionary 생성해서 dict_w = {'단어': '횟수}\n",
    "dict_w = dict()\n",
    "\n",
    "for l in IU_lilac:\n",
    "#    print(l)\n",
    "    if l == ' ' and l == '\\n':\n",
    "        continue\n",
    "#        print(l)\n",
    "    elif l not in  dict_w:\n",
    "        dict_w[l] = 1\n",
    "    else:\n",
    "        dict_w[l] += 1\n",
    "print(dict_w)    \n",
    "        \n",
    "# lyr space제외하고 countng"
   ]
  },
  {
   "cell_type": "code",
   "execution_count": 147,
   "metadata": {
    "scrolled": true
   },
   "outputs": [
    {
     "name": "stdout",
     "output_type": "stream",
     "text": [
      "나리는\n",
      "꽃가루에\n",
      "눈이\n",
      "따끔해\n",
      "(아야)\n",
      "눈물이\n",
      "고여도\n",
      "꾹\n",
      "참을래\n",
      "내\n",
      "마음\n",
      "한켠\n",
      "비밀스런\n",
      "오르골에\n",
      "넣어두고서\n",
      "영원히\n",
      "되감을\n",
      "순간이니까\n",
      "우리\n",
      "둘의\n",
      "마지막\n",
      "페이지를\n",
      "잘\n",
      "부탁해\n",
      "어느\n",
      "작별이\n",
      "이보다\n",
      "완벽할까\n",
      "Love\n",
      "me\n",
      "only\n",
      "till\n",
      "this\n",
      "spring\n",
      "오\n",
      "라일락\n",
      "꽃이\n",
      "지는\n",
      "날\n",
      "goodbye\n",
      "이런\n",
      "결말이\n",
      "어울려\n",
      "안녕\n",
      "꽃잎\n",
      "같은\n",
      "안녕\n",
      "하이얀\n",
      "우리\n",
      "봄날의\n",
      "climax\n",
      "아\n",
      "얼마나\n",
      "기쁜\n",
      "일이야\n",
      "Ooh\n",
      "ooh\n",
      "Love\n",
      "me\n",
      "only\n",
      "till\n",
      "this\n",
      "spring\n",
      "봄바람처럼\n",
      "Ooh\n",
      "ooh\n",
      "Love\n",
      "me\n",
      "only\n",
      "till\n",
      "this\n",
      "spring\n",
      "봄바람처럼\n"
     ]
    }
   ],
   "source": [
    "for ly in IU_lilac.split(): #whitespace : 띄어쓰기(' '), 탭('\\t'), 엔터('\\n') 를 기준으로 나눠주자\n",
    "      print(ly)"
   ]
  },
  {
   "cell_type": "code",
   "execution_count": 149,
   "metadata": {
    "collapsed": true
   },
   "outputs": [
    {
     "name": "stdout",
     "output_type": "stream",
     "text": [
      "{'나리는': 1, '꽃가루에': 1, '눈이': 1, '따끔해': 1, '(아야)': 1, '눈물이': 1, '고여도': 1, '꾹': 1, '참을래': 1, '내': 1, '마음': 1, '한켠': 1, '비밀스런': 1, '오르골에': 1, '넣어두고서': 1, '영원히': 1, '되감을': 1, '순간이니까': 1, '우리': 2, '둘의': 1, '마지막': 1, '페이지를': 1, '잘': 1, '부탁해': 1, '어느': 1, '작별이': 1, '이보다': 1, '완벽할까': 1, 'Love': 3, 'me': 3, 'only': 3, 'till': 3, 'this': 3, 'spring': 3, '오': 1, '라일락': 1, '꽃이': 1, '지는': 1, '날': 1, 'goodbye': 1, '이런': 1, '결말이': 1, '어울려': 1, '안녕': 2, '꽃잎': 1, '같은': 1, '하이얀': 1, '봄날의': 1, 'climax': 1, '아': 1, '얼마나': 1, '기쁜': 1, '일이야': 1, 'Ooh': 2, 'ooh': 2, '봄바람처럼': 2}\n"
     ]
    }
   ],
   "source": [
    "dict_w2 = dict()\n",
    "\n",
    "for ly in IU_lilac.split():\n",
    "    if ly == '\\n' and ly == ' ':\n",
    "        continue\n",
    "    elif ly not in dict_w2:\n",
    "        dict_w2[ly] = 1\n",
    "    else:\n",
    "        dict_w2[ly] += 1\n",
    "print(dict_w2)"
   ]
  },
  {
   "cell_type": "markdown",
   "metadata": {},
   "source": [
    "## List Comprehension\n",
    "> newlist = [expression for item in iterable if condition == True]\n",
    "> https://www.w3schools.com/python/python_lists_comprehension.asp\n",
    "\n"
   ]
  },
  {
   "cell_type": "code",
   "execution_count": 1,
   "metadata": {},
   "outputs": [
    {
     "name": "stdout",
     "output_type": "stream",
     "text": [
      "2\n",
      "3\n"
     ]
    }
   ],
   "source": [
    "for x in range(1, 4):\n",
    "    if x >1:\n",
    "        print(x)"
   ]
  },
  {
   "cell_type": "code",
   "execution_count": 2,
   "metadata": {},
   "outputs": [
    {
     "data": {
      "text/plain": [
       "[2, 3]"
      ]
     },
     "execution_count": 2,
     "metadata": {},
     "output_type": "execute_result"
    }
   ],
   "source": [
    "[x for x in range(1, 4) if x > 1]"
   ]
  },
  {
   "cell_type": "code",
   "execution_count": 3,
   "metadata": {},
   "outputs": [
    {
     "name": "stdout",
     "output_type": "stream",
     "text": [
      "[2, 4, 6, 8, 10]\n"
     ]
    }
   ],
   "source": [
    "lst =[]\n",
    "for x in range(1, 6):\n",
    "    lst.append(x*2)\n",
    "print(lst)"
   ]
  },
  {
   "cell_type": "code",
   "execution_count": 5,
   "metadata": {},
   "outputs": [
    {
     "name": "stdout",
     "output_type": "stream",
     "text": [
      "[2, 4, 6, 8, 10]\n"
     ]
    }
   ],
   "source": [
    "lst2 = [x*2 for x in range(1, 6)]\n",
    "print(lst2)"
   ]
  },
  {
   "cell_type": "markdown",
   "metadata": {},
   "source": [
    "## Slice\n",
    "> list / tuple / range / str\n",
    "- 시퀀스객체[시작인텍스:끝인덱스]\n",
    "- 시퀀스객체[:끝인덱스] : 끝인덱스-1까지 가져옴\n",
    "- 시퀀스객체[시작인덱스:] : 해당 index 부터 마지막 요소까지 가져옴\n",
    "- 시퀀스객체[:] : 리스트 전체를 가져옴\n",
    "- 시퀀스객체[시작:끝:증가폭/스텝]\n",
    "- 시퀀스객체[:: 증가폭/스텝] : 리스트 전체에서 증가폭씩 증가시키면서 요소를 가져옴\n",
    "- 시퀀스객체[::] : 시스트 전체를 가져옴"
   ]
  },
  {
   "cell_type": "code",
   "execution_count": 6,
   "metadata": {},
   "outputs": [],
   "source": [
    "str_num = '12345'\n",
    "lst_num = [1, 2, 3, 4, 5]\n",
    "tup_num = (1, 2, 3, 4, 5)"
   ]
  },
  {
   "cell_type": "code",
   "execution_count": 8,
   "metadata": {},
   "outputs": [
    {
     "name": "stdout",
     "output_type": "stream",
     "text": [
      "23\n",
      "[2, 3]\n",
      "(2, 3)\n"
     ]
    }
   ],
   "source": [
    "print(str_num[1:3])\n",
    "print(lst_num[1:3])\n",
    "print(tup_num[1:3])"
   ]
  },
  {
   "cell_type": "code",
   "execution_count": 9,
   "metadata": {},
   "outputs": [
    {
     "name": "stdout",
     "output_type": "stream",
     "text": [
      "123\n",
      "[1, 2, 3]\n",
      "(1, 2, 3)\n"
     ]
    }
   ],
   "source": [
    "print(str_num[:3])\n",
    "print(lst_num[:3])\n",
    "print(tup_num[:3])"
   ]
  },
  {
   "cell_type": "code",
   "execution_count": 12,
   "metadata": {},
   "outputs": [
    {
     "name": "stdout",
     "output_type": "stream",
     "text": [
      "[0, 1, 2, 3, 4, 5, 6, 7, 8, 9, 10]\n"
     ]
    }
   ],
   "source": [
    "data_num = list(range(11))\n",
    "print(data_num)"
   ]
  },
  {
   "cell_type": "code",
   "execution_count": 13,
   "metadata": {},
   "outputs": [
    {
     "name": "stdout",
     "output_type": "stream",
     "text": [
      "[1, 3, 5, 7, 9]\n"
     ]
    }
   ],
   "source": [
    "data_num2 = list(range(1, 11, 2))\n",
    "print(data_num2)"
   ]
  },
  {
   "cell_type": "markdown",
   "metadata": {},
   "source": [
    "## 문자열\n",
    "- strip() : sapce가 구분자이면서 삭제 <br>\n",
    "> strip('표기') : 표기가 구분자 <br>\n",
    "> strip('표기1', '표기2') : 두가지 표기가 모두 구분자 <br>\n",
    "> lstrip() : 왼쪽 잉여 여백 제거 <br>\n",
    "> rstrip() : 오른쪽 잉여 여백 제거 <br>\n",
    "> strip(A) ; 문자열 앞, 뒤의 문자열 A를 제거 <br>\n",
    "<br>\n",
    "\n",
    "- .join(): list 내의 모든 문자열을 하나의 문자열로 결합 <br>\n",
    "- split(t, n) : 문자열에서 t를 구분자로 사용, 정수 n만큼 분리한 문자열 리스트 반환 <br>\n",
    "- str() : 문자열로 변환 <br>\n",
    "- format() : 문자열을 추가하거나 형식화\n",
    "> %d : 정수 표현 <br>\n",
    "> %s : 문자 표현 <br>\n",
    "> %f : 부동 소수 표현 <br>\n",
    "- f-strings <br>\n",
    "> 접두사 f를 붙이면 사용 가능 <br>\n",
    "> %sk .format 방식보다 간결하고 직관적, 빠른 속도 <br>\n",
    "> f'...{변수명}...' <br>"
   ]
  },
  {
   "cell_type": "code",
   "execution_count": 29,
   "metadata": {},
   "outputs": [
    {
     "name": "stdout",
     "output_type": "stream",
     "text": [
      "19\n",
      "17\n",
      "apple*orangecream\n",
      "18\n",
      "apple*orangecream \n",
      "18\n",
      " apple*orangecream\n"
     ]
    }
   ],
   "source": [
    "data_str = ' apple*orangecream '\n",
    "print(len(data_str))\n",
    "print(len(data_str.strip()))\n",
    "print(data_str.strip())\n",
    "print(len(data_str.lstrip()))\n",
    "print(data_str.lstrip())\n",
    "print(len(data_str.rstrip()))\n",
    "print(data_str.rstrip())"
   ]
  },
  {
   "cell_type": "code",
   "execution_count": 23,
   "metadata": {},
   "outputs": [
    {
     "name": "stdout",
     "output_type": "stream",
     "text": [
      "winter is my favorite season\n"
     ]
    }
   ],
   "source": [
    "d1 = 'winter'\n",
    "print('%s is my favorite season' %d1)"
   ]
  },
  {
   "cell_type": "code",
   "execution_count": 24,
   "metadata": {},
   "outputs": [
    {
     "name": "stdout",
     "output_type": "stream",
     "text": [
      "summer is my favorite season\n"
     ]
    }
   ],
   "source": [
    "d2 = 'summer'\n",
    "\n",
    "print('%s is my favorite season' %d2)"
   ]
  },
  {
   "cell_type": "code",
   "execution_count": 25,
   "metadata": {},
   "outputs": [
    {
     "name": "stdout",
     "output_type": "stream",
     "text": [
      "winter is my favorite season\n"
     ]
    }
   ],
   "source": [
    "d3 = 'my'\n",
    "print('%s is %s favorite season' % (d1, d3))"
   ]
  },
  {
   "cell_type": "code",
   "execution_count": 26,
   "metadata": {},
   "outputs": [
    {
     "name": "stdout",
     "output_type": "stream",
     "text": [
      "1\n"
     ]
    }
   ],
   "source": [
    "d4 = 'winter is my favorite season'\n",
    "print(d4.find('i')) #중복값이면 첫번째 인덱스를 알려줌"
   ]
  },
  {
   "cell_type": "code",
   "execution_count": 33,
   "metadata": {},
   "outputs": [
    {
     "name": "stdout",
     "output_type": "stream",
     "text": [
      "[1, 3, 5, 7, 9]\n"
     ]
    },
    {
     "ename": "TypeError",
     "evalue": "sequence item 0: expected str instance, int found",
     "output_type": "error",
     "traceback": [
      "\u001b[1;31m---------------------------------------------------------------------------\u001b[0m",
      "\u001b[1;31mTypeError\u001b[0m                                 Traceback (most recent call last)",
      "\u001b[1;32m<ipython-input-33-f56f77f1be2f>\u001b[0m in \u001b[0;36m<module>\u001b[1;34m\u001b[0m\n\u001b[0;32m      1\u001b[0m \u001b[0mdata_num2\u001b[0m \u001b[1;33m=\u001b[0m \u001b[0mlist\u001b[0m\u001b[1;33m(\u001b[0m\u001b[0mrange\u001b[0m\u001b[1;33m(\u001b[0m\u001b[1;36m1\u001b[0m\u001b[1;33m,\u001b[0m \u001b[1;36m11\u001b[0m\u001b[1;33m,\u001b[0m \u001b[1;36m2\u001b[0m\u001b[1;33m)\u001b[0m\u001b[1;33m)\u001b[0m\u001b[1;33m\u001b[0m\u001b[1;33m\u001b[0m\u001b[0m\n\u001b[0;32m      2\u001b[0m \u001b[0mprint\u001b[0m\u001b[1;33m(\u001b[0m\u001b[0mdata_num2\u001b[0m\u001b[1;33m)\u001b[0m\u001b[1;33m\u001b[0m\u001b[1;33m\u001b[0m\u001b[0m\n\u001b[1;32m----> 3\u001b[1;33m \u001b[0mdata_num3\u001b[0m \u001b[1;33m=\u001b[0m \u001b[1;34m' '\u001b[0m\u001b[1;33m.\u001b[0m\u001b[0mjoin\u001b[0m\u001b[1;33m(\u001b[0m\u001b[0mdata_num2\u001b[0m\u001b[1;33m)\u001b[0m\u001b[1;33m\u001b[0m\u001b[1;33m\u001b[0m\u001b[0m\n\u001b[0m",
      "\u001b[1;31mTypeError\u001b[0m: sequence item 0: expected str instance, int found"
     ]
    }
   ],
   "source": [
    "data_num2 = list(range(1, 11, 2))\n",
    "print(data_num2)\n",
    "data_num3 = ' '.join(data_num2) # sequence item 0: expected str instance, int found"
   ]
  },
  {
   "cell_type": "code",
   "execution_count": 35,
   "metadata": {},
   "outputs": [
    {
     "name": "stdout",
     "output_type": "stream",
     "text": [
      "spring summer fall winter\n"
     ]
    }
   ],
   "source": [
    "data_str1 = ['spring', 'summer', 'fall', 'winter']\n",
    "data_str2 = ' '.join(data_str1)\n",
    "print(data_str2)"
   ]
  },
  {
   "cell_type": "code",
   "execution_count": 40,
   "metadata": {},
   "outputs": [
    {
     "name": "stdout",
     "output_type": "stream",
     "text": [
      "['winter', 'is', 'my', 'favorite', 'season']\n",
      "['winter', 'is', 'my favorite season']\n"
     ]
    }
   ],
   "source": [
    "d4 = 'winter is my favorite season'\n",
    "print(d4.split(' '))\n",
    "print(d4.split(' ',2))"
   ]
  },
  {
   "cell_type": "code",
   "execution_count": 41,
   "metadata": {},
   "outputs": [
    {
     "data": {
      "text/plain": [
       "'apple banana cherry'"
      ]
     },
     "execution_count": 41,
     "metadata": {},
     "output_type": "execute_result"
    }
   ],
   "source": [
    "'{} {} {}'.format('apple', 'banana', 'cherry')"
   ]
  },
  {
   "cell_type": "code",
   "execution_count": 47,
   "metadata": {},
   "outputs": [
    {
     "data": {
      "text/plain": [
       "'there si three type int string float'"
      ]
     },
     "execution_count": 47,
     "metadata": {},
     "output_type": "execute_result"
    }
   ],
   "source": [
    "'there si three type {} {} {}'.format('int', 'string', 'float')"
   ]
  },
  {
   "cell_type": "code",
   "execution_count": 50,
   "metadata": {},
   "outputs": [
    {
     "name": "stdout",
     "output_type": "stream",
     "text": [
      "12 birthday 5.120000\n",
      "5 birthday 12.000000\n"
     ]
    }
   ],
   "source": [
    "v_int = 12\n",
    "v_float = 5.12\n",
    "v_string = 'birthday'\n",
    "print('%d %s %f' % (v_int, v_string, v_float))\n",
    "print('%d %s %f' % (v_float, v_string, v_int))"
   ]
  },
  {
   "cell_type": "code",
   "execution_count": 51,
   "metadata": {},
   "outputs": [
    {
     "name": "stdout",
     "output_type": "stream",
     "text": [
      "생일은 영어로 birthday\n"
     ]
    }
   ],
   "source": [
    "print(f'생일은 영어로 {v_string}')"
   ]
  },
  {
   "cell_type": "markdown",
   "metadata": {},
   "source": [
    "#### 문자열 반전하기\n",
    "reversed(변수) - 존재하는 문자열을 역으로 변환된 객체가 저장된 메모리 주소값이 나오는 함수 <br>\n",
    "''.join(reversed(문자열변수)) - 문자열 변서 역순으로 나오게 함 <br>\n",
    "변수가 리스트일 경우 <br>\n",
    "변수[::-1] - 리스트 속 데이터를 역순으로 나오게 함 <br>"
   ]
  },
  {
   "cell_type": "code",
   "execution_count": 57,
   "metadata": {},
   "outputs": [
    {
     "name": "stdout",
     "output_type": "stream",
     "text": [
      "n o s a e s   e t i r o v a f   y m   s i   r e t n i w\n",
      "n o s a e s   e t i r o v a f   y m   s i   r e t n i w\n",
      "<class 'NoneType'>\n"
     ]
    }
   ],
   "source": [
    "d4 = 'winter is my favorite season'\n",
    "\n",
    "def reversew(string):\n",
    "    k = reversed(string)\n",
    "    print(' '.join(k))\n",
    "\n",
    "reversew(d4)\n",
    "print(type(reversew(d4)))"
   ]
  },
  {
   "cell_type": "code",
   "execution_count": 53,
   "metadata": {},
   "outputs": [
    {
     "name": "stdout",
     "output_type": "stream",
     "text": [
      "season favorite my is winter\n"
     ]
    }
   ],
   "source": [
    "d4 = 'winter is my favorite season'\n",
    "\n",
    "def reversing_slice(x):\n",
    "    newx = []\n",
    "    x2 = x.split(' ')\n",
    "    for xx in x2[::-1]:\n",
    "        newx.append(xx)\n",
    "    return ' '.join(newx)\n",
    "\n",
    "d5 = reversing_slice(d4)\n",
    "print(d5)"
   ]
  },
  {
   "cell_type": "code",
   "execution_count": null,
   "metadata": {},
   "outputs": [],
   "source": []
  }
 ],
 "metadata": {
  "colab": {
   "collapsed_sections": [],
   "name": "step01Calculation.ipynb",
   "provenance": []
  },
  "kernelspec": {
   "display_name": "Python 3",
   "language": "python",
   "name": "python3"
  },
  "language_info": {
   "codemirror_mode": {
    "name": "ipython",
    "version": 3
   },
   "file_extension": ".py",
   "mimetype": "text/x-python",
   "name": "python",
   "nbconvert_exporter": "python",
   "pygments_lexer": "ipython3",
   "version": "3.8.5"
  }
 },
 "nbformat": 4,
 "nbformat_minor": 1
}
